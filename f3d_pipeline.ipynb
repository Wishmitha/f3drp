{
 "cells": [
  {
   "cell_type": "code",
   "execution_count": 2,
   "metadata": {},
   "outputs": [],
   "source": [
    "%matplotlib widget\n",
    "\n",
    "from mpl_toolkits.mplot3d import Axes3D\n",
    "import matplotlib.pyplot as plt\n",
    "import numpy as np\n",
    "import pickle\n",
    "import pandas as pd"
   ]
  },
  {
   "cell_type": "code",
   "execution_count": 3,
   "metadata": {},
   "outputs": [],
   "source": [
    "#parameters\n",
    "scan_id=3\n",
    "sample_rate=10\n",
    "no_of_lines =50\n",
    "line_tolarance=1.5\n",
    "model_name=\"svm\""
   ]
  },
  {
   "cell_type": "code",
   "execution_count": 4,
   "metadata": {},
   "outputs": [],
   "source": [
    "def process_data(file, sample_rate = sample_rate):\n",
    "    coord = []\n",
    "    for point in file.readlines():\n",
    "        coord.append(list(map(float,point.split())))\n",
    "        \n",
    "    point_array_sampled = []\n",
    "    for i in range(0,len(coord),sample_rate):\n",
    "        point_array_sampled.append(coord[i])\n",
    "        \n",
    "    point_array_sampled = np.array(point_array_sampled)\n",
    "        \n",
    "    return np.array( point_array_sampled)"
   ]
  },
  {
   "cell_type": "code",
   "execution_count": 5,
   "metadata": {},
   "outputs": [],
   "source": [
    "def plot_graph(point_data,outline_points=None, lines=None):\n",
    "    fig = plt.figure()\n",
    "    ax = fig.add_subplot(111, projection='3d')\n",
    "\n",
    "    # Create cubic bounding box to simulate equal aspect ratio\n",
    "    X = point_data[:,0]\n",
    "    Y = point_data[:,1]\n",
    "    Z = point_data[:,2]\n",
    "\n",
    "    ax.scatter(point_data[:,0], point_data[:,1], point_data[:,2], s=1)\n",
    "\n",
    "    #bounding box to show foot in scale\n",
    "    max_range = np.array([X.max()-X.min(), Y.max()-Y.min(), Z.max()-Z.min()]).max()\n",
    "    Xb = 0.5*max_range*np.mgrid[-1:2:2,-1:2:2,-1:2:2][0].flatten() + 0.5*(X.max()+X.min())\n",
    "    Yb = 0.5*max_range*np.mgrid[-1:2:2,-1:2:2,-1:2:2][1].flatten() + 0.5*(Y.max()+Y.min())\n",
    "    Zb = 0.5*max_range*np.mgrid[-1:2:2,-1:2:2,-1:2:2][2].flatten() + 0.5*(Z.max()+Z.min())\n",
    "\n",
    "    for xb, yb, zb in zip(Xb, Yb, Zb):\n",
    "        ax.plot([xb], [yb], [zb], 'w')\n",
    "        \n",
    "    if (outline_points is not None):\n",
    "        flatten = outline_points.reshape(no_of_lines*2,3)\n",
    "        ax.scatter(flatten[:,0], flatten[:,1], flatten[:,2], s=500/no_of_lines, color='red')\n",
    "\n",
    "    plt.grid()"
   ]
  },
  {
   "cell_type": "code",
   "execution_count": 6,
   "metadata": {},
   "outputs": [],
   "source": [
    "def project_points(point_array, axis=1, height_limit=100000): #axis values x=0/y=1/z=2 implement limit\n",
    "    if(axis==0):\n",
    "        point_array[:,0]=0\n",
    "    if(axis==1):\n",
    "        point_array[:,1]=0\n",
    "    if(axis==2):\n",
    "        point_array[:,2]=0\n",
    "        \n",
    "    return point_array"
   ]
  },
  {
   "cell_type": "code",
   "execution_count": 42,
   "metadata": {},
   "outputs": [],
   "source": [
    "def get_outline(point_data, no_of_lines = no_of_lines, line_tolarance = line_tolarance):\n",
    "    \n",
    "    z_min = min(point_data[:,2])\n",
    "    z_max =max(point_data[:,2])\n",
    "    \n",
    "    step = (z_max-z_min)/(no_of_lines+1)\n",
    "    \n",
    "    lines = np.arange(z_min, z_max, step)[1:]\n",
    "    \n",
    "    outline_points=[]\n",
    "    \n",
    "    for line in lines:\n",
    "        line_points=[]\n",
    "        candidates = point_data[np.where(np.logical_and(point_data[:,2]>line, point_data[:,2]<line+line_tolarance))]\n",
    "        \n",
    "        if(len(candidates)==0 or len(outline_points)==no_of_lines):\n",
    "            break\n",
    "            \n",
    "        line_points.append(candidates[np.where(candidates[:,0]==min(candidates[:,0]))][0])\n",
    "        line_points.append(candidates[np.where(candidates[:,0]==max(candidates[:,0]))][0])\n",
    "        \n",
    "        \n",
    "        outline_points.append(line_points)\n",
    "        \n",
    "    return np.array(outline_points).reshape((no_of_lines,2,3)),lines"
   ]
  },
  {
   "cell_type": "code",
   "execution_count": 43,
   "metadata": {},
   "outputs": [],
   "source": [
    "def read_dataset():\n",
    "    all_set = pd.read_csv(\"Datasets/all_data.csv\", sep=',',header=0)\n",
    "    train_set=pd.read_csv(\"Datasets/train_set.csv\", sep=',',header=0)\n",
    "    test_set=pd.read_csv(\"Datasets/test_set.csv\", sep=',',header=0)\n",
    "    \n",
    "    return all_set.drop(all_set.index[[0,1]]),train_set.drop(train_set.index[[0,1]]), test_set.drop(test_set.index[[0,1]])"
   ]
  },
  {
   "cell_type": "code",
   "execution_count": 44,
   "metadata": {},
   "outputs": [],
   "source": [
    "def load_model(model=model_name):\n",
    "    if(model==\"svm\"):\n",
    "        return pickle.load(open(\"Models/SVM_Classifier.pkcls\", 'rb'))\n",
    "    else:\n",
    "        return"
   ]
  },
  {
   "cell_type": "code",
   "execution_count": 77,
   "metadata": {},
   "outputs": [],
   "source": [
    "points_0 = open(\"Datasets/Foot Models/points/left/3/sub473ll.pts\")\n",
    "point_array_0 = process_data(points_0)\n",
    "projection_0 = project_points(point_array_0)\n",
    "outline_0 =get_outline(projection_0)\n",
    "outline_points_0= outline_0[0]\n",
    "lines_0=outline_0[1]"
   ]
  },
  {
   "cell_type": "code",
   "execution_count": 78,
   "metadata": {},
   "outputs": [],
   "source": [
    "points_1 = open(\"Datasets/Foot Models/points/left/3/sub1673ll.pts\")\n",
    "point_array_1 = process_data(points_1)\n",
    "projection_1 = project_points(point_array_1)\n",
    "outline_1 =get_outline(projection_1)\n",
    "outline_points_1= outline_1[0]\n",
    "lines_1=outline_1[1]"
   ]
  },
  {
   "cell_type": "code",
   "execution_count": 79,
   "metadata": {},
   "outputs": [],
   "source": [
    "points_2 = open(\"Datasets/Foot Models/points/left/3/sub113ll.pts\")\n",
    "point_array_2 = process_data(points_2)\n",
    "projection_2 = project_points(point_array_2)\n",
    "outline_2 =get_outline(projection_2)\n",
    "outline_points_2= outline_2[0]\n",
    "lines_2=outline_2[1]"
   ]
  },
  {
   "cell_type": "code",
   "execution_count": 80,
   "metadata": {},
   "outputs": [
    {
     "data": {
      "application/vnd.jupyter.widget-view+json": {
       "model_id": "a0d480bc626d46a4a3f1b2c598a74615",
       "version_major": 2,
       "version_minor": 0
      },
      "text/plain": [
       "Canvas(toolbar=Toolbar(toolitems=[('Home', 'Reset original view', 'home', 'home'), ('Back', 'Back to previous …"
      ]
     },
     "metadata": {},
     "output_type": "display_data"
    }
   ],
   "source": [
    "plot_graph(projection_0, outline_points=outline_points_0)"
   ]
  },
  {
   "cell_type": "code",
   "execution_count": 81,
   "metadata": {},
   "outputs": [
    {
     "data": {
      "application/vnd.jupyter.widget-view+json": {
       "model_id": "756a353b4e324dd59f83b881cecd47cb",
       "version_major": 2,
       "version_minor": 0
      },
      "text/plain": [
       "Canvas(toolbar=Toolbar(toolitems=[('Home', 'Reset original view', 'home', 'home'), ('Back', 'Back to previous …"
      ]
     },
     "metadata": {},
     "output_type": "display_data"
    }
   ],
   "source": [
    "plot_graph(projection_1,outline_points=outline_points_1)"
   ]
  },
  {
   "cell_type": "code",
   "execution_count": 82,
   "metadata": {},
   "outputs": [
    {
     "data": {
      "application/vnd.jupyter.widget-view+json": {
       "model_id": "d12fefe9e2754074849bc6ced1b0f7f9",
       "version_major": 2,
       "version_minor": 0
      },
      "text/plain": [
       "Canvas(toolbar=Toolbar(toolitems=[('Home', 'Reset original view', 'home', 'home'), ('Back', 'Back to previous …"
      ]
     },
     "metadata": {},
     "output_type": "display_data"
    }
   ],
   "source": [
    "plot_graph(projection_2,outline_points=outline_points_2)"
   ]
  },
  {
   "cell_type": "code",
   "execution_count": 83,
   "metadata": {},
   "outputs": [],
   "source": [
    "dataset= read_dataset()\n",
    "all_data= dataset[0]\n",
    "train_set = dataset[1]\n",
    "test_set = dataset[2]"
   ]
  },
  {
   "cell_type": "code",
   "execution_count": 84,
   "metadata": {},
   "outputs": [],
   "source": [
    "model=load_model() #implement classification model\n",
    "test_features=test_set[[\"No.\",\"Cluster\",\"Foot Length\",\"Foot Breadth 1\",\"Short Heel Girth\"]]"
   ]
  },
  {
   "cell_type": "code",
   "execution_count": 53,
   "metadata": {},
   "outputs": [
    {
     "name": "stdout",
     "output_type": "stream",
     "text": [
      "50 50 50\n"
     ]
    }
   ],
   "source": [
    "print(len(outline_points_1),len(outline_points_2),len(outline_points_3))"
   ]
  },
  {
   "cell_type": "code",
   "execution_count": 120,
   "metadata": {},
   "outputs": [
    {
     "name": "stdout",
     "output_type": "stream",
     "text": [
      ">0, new best f([0.924407958984375, 1.58966064453125]) = 35484.902201\n",
      ">0, new best f([1.52587890625, 0.486236572265625]) = 22689.702766\n",
      ">0, new best f([1.6832275390625, 0.291473388671875]) = 21605.642701\n",
      ">0, new best f([0.597564697265625, 1.05078125]) = 15093.895399\n",
      ">0, new best f([1.408782958984375, 0.127227783203125]) = 11447.214905\n",
      ">0, new best f([0.099365234375, 1.289703369140625]) = 9495.457848\n",
      ">0, new best f([0.458709716796875, 0.502899169921875]) = 1500.769412\n",
      ">0, new best f([0.14190673828125, 0.824493408203125]) = 1006.482895\n",
      ">0, new best f([0.281982421875, 0.70672607421875]) = 771.155222\n",
      ">1, new best f([0.14971923828125, 0.860015869140625]) = 733.510890\n",
      ">1, new best f([0.243255615234375, 0.765045166015625]) = 672.430017\n",
      ">2, new best f([0.14971923828125, 0.84478759765625]) = 657.622207\n",
      ">3, new best f([0.243255615234375, 0.75921630859375]) = 647.369971\n",
      ">3, new best f([0.243255615234375, 0.758209228515625]) = 646.302441\n",
      ">4, new best f([0.243194580078125, 0.7576904296875]) = 646.183054\n",
      ">4, new best f([0.235443115234375, 0.765106201171875]) = 645.828027\n",
      ">38, new best f([0.23468017578125, 0.765716552734375]) = 645.808710\n",
      ">75, new best f([0.226898193359375, 0.773529052734375]) = 645.801432\n",
      ">218, new best f([0.226715087890625, 0.773681640625]) = 645.793280\n",
      ">423, new best f([0.226898193359375, 0.77349853515625]) = 645.788349\n",
      ">644, new best f([0.2265625, 0.773651123046875]) = 645.736101\n",
      ">675, new best f([0.226593017578125, 0.773590087890625]) = 645.728861\n",
      "Done!\n",
      "f([0.226593017578125, 0.773590087890625]) = 645.728861\n"
     ]
    }
   ],
   "source": [
    "# genetic algorithm search for continuous function optimization\n",
    "from numpy.random import randint\n",
    "from numpy.random import rand\n",
    "\n",
    "# objective function to minimize\n",
    "def objective(x):\n",
    "    func = 0\n",
    "    for i in range(0,no_of_lines):\n",
    "        for j in range(0,2):\n",
    "            func = func+ np.linalg.norm((x[0]*outline_points_1[i][j] + x[1]*outline_points_2[i][j])-outline_points_0[i][j])\n",
    "    return func\n",
    "\n",
    "# decode bitstring to numbers\n",
    "def decode(bounds, n_bits, bitstring):\n",
    "    decoded = list()\n",
    "    largest = 2**n_bits\n",
    "    for i in range(len(bounds)):\n",
    "        # extract the substring\n",
    "        start, end = i * n_bits, (i * n_bits)+n_bits\n",
    "        substring = bitstring[start:end]\n",
    "        # convert bitstring to a string of chars\n",
    "        chars = ''.join([str(s) for s in substring])\n",
    "        # convert string to integer\n",
    "        integer = int(chars, 2)\n",
    "        # scale integer to desired range\n",
    "        value = bounds[i][0] + (integer/largest) * (bounds[i][1] - bounds[i][0])\n",
    "        # store\n",
    "        decoded.append(value)\n",
    "    return decoded\n",
    "\n",
    "# tournament selection\n",
    "def selection(pop, scores, k=3):\n",
    "    # first random selection\n",
    "    selection_ix = randint(len(pop))\n",
    "    for ix in randint(0, len(pop), k-1):\n",
    "        # check if better (e.g. perform a tournament)\n",
    "        if scores[ix] < scores[selection_ix]:\n",
    "            selection_ix = ix\n",
    "    return pop[selection_ix]\n",
    "\n",
    "# crossover two parents to create two children\n",
    "def crossover(p1, p2, r_cross):\n",
    "    # children are copies of parents by default\n",
    "    c1, c2 = p1.copy(), p2.copy()\n",
    "    # check for recombination\n",
    "    if rand() < r_cross:\n",
    "        # select crossover point that is not on the end of the string\n",
    "        pt = randint(1, len(p1)-2)\n",
    "        # perform crossover\n",
    "        c1 = p1[:pt] + p2[pt:]\n",
    "        c2 = p2[:pt] + p1[pt:]\n",
    "    return [c1, c2]\n",
    "\n",
    "# mutation operator\n",
    "def mutation(bitstring, r_mut):\n",
    "    for i in range(len(bitstring)):\n",
    "        # check for a mutation\n",
    "        if rand() < r_mut:\n",
    "            # flip the bit\n",
    "            bitstring[i] = 1 - bitstring[i]\n",
    "\n",
    "# genetic algorithm\n",
    "def genetic_algorithm(objective, bounds, n_bits, n_iter, n_pop, r_cross, r_mut):\n",
    "    # initial population of random bitstring\n",
    "    pop = [randint(0, 2, n_bits*len(bounds)).tolist() for _ in range(n_pop)]\n",
    "    # keep track of best solution\n",
    "    best, best_eval = 0, objective(decode(bounds, n_bits, pop[0]))\n",
    "    # enumerate generations\n",
    "    for gen in range(n_iter):\n",
    "\n",
    "        # decode population\n",
    "        decoded = [decode(bounds, n_bits, p) for p in pop]\n",
    "        # evaluate all candidates in the population\n",
    "        scores = [objective(d) for d in decoded]\n",
    "        # check for new best solution\n",
    "        for i in range(n_pop):\n",
    "            if scores[i] < best_eval:\n",
    "                best, best_eval = pop[i], scores[i]\n",
    "                print(\">%d, new best f(%s) = %f\" % (gen,  decoded[i], scores[i]))\n",
    "        # select parents\n",
    "        selected = [selection(pop, scores) for _ in range(n_pop)]\n",
    "        # create the next generation\n",
    "        children = list()\n",
    "        for i in range(0, n_pop, 2):\n",
    "            # get selected parents in pairs\n",
    "            p1, p2 = selected[i], selected[i+1]\n",
    "            # crossover and mutation\n",
    "            for c in crossover(p1, p2, r_cross):\n",
    "                # mutation\n",
    "                mutation(c, r_mut)\n",
    "                # store for next generation\n",
    "                children.append(c)\n",
    "        # replace population\n",
    "        pop = children\n",
    "    return [best, best_eval]\n",
    "\n",
    "# define range for input\n",
    "bounds = [[0,2], [0,2]]\n",
    "# define the total iterations\n",
    "n_iter = 1000\n",
    "# bits per variable\n",
    "n_bits = 16\n",
    "# define the population size\n",
    "n_pop = 100\n",
    "# crossover rate\n",
    "r_cross = 0.9\n",
    "# mutation rate\n",
    "r_mut = 1.0 / (float(n_bits) * len(bounds))\n",
    "# perform the genetic algorithm search\n",
    "best, score = genetic_algorithm(objective, bounds, n_bits, n_iter, n_pop, r_cross, r_mut)\n",
    "print('Done!')\n",
    "decoded = decode(bounds, n_bits, best)\n",
    "print('f(%s) = %f' % (decoded, score))\n",
    "\n",
    "\n",
    "#set bound to (-1 to 1) and normalize the foots to max length foot"
   ]
  },
  {
   "cell_type": "code",
   "execution_count": 121,
   "metadata": {},
   "outputs": [
    {
     "data": {
      "text/plain": [
       "[0.226593017578125, 0.773590087890625]"
      ]
     },
     "execution_count": 121,
     "metadata": {},
     "output_type": "execute_result"
    }
   ],
   "source": [
    "decoded"
   ]
  },
  {
   "cell_type": "code",
   "execution_count": 122,
   "metadata": {},
   "outputs": [
    {
     "name": "stderr",
     "output_type": "stream",
     "text": [
      "/home/wolfpack/Dev_Tools/anaconda3/lib/python3.7/site-packages/ipykernel_launcher.py:2: RuntimeWarning: More than 20 figures have been opened. Figures created through the pyplot interface (`matplotlib.pyplot.figure`) are retained until explicitly closed and may consume too much memory. (To control this warning, see the rcParam `figure.max_open_warning`).\n",
      "  \n"
     ]
    },
    {
     "data": {
      "application/vnd.jupyter.widget-view+json": {
       "model_id": "7875971a44b94dd28981cb0f076ce56b",
       "version_major": 2,
       "version_minor": 0
      },
      "text/plain": [
       "Canvas(toolbar=Toolbar(toolitems=[('Home', 'Reset original view', 'home', 'home'), ('Back', 'Back to previous …"
      ]
     },
     "metadata": {},
     "output_type": "display_data"
    }
   ],
   "source": [
    "plot_graph(projection_0, outline_points=outline_points_1*decoded[0]+outline_points_2*decoded[1])"
   ]
  },
  {
   "cell_type": "code",
   "execution_count": 104,
   "metadata": {},
   "outputs": [
    {
     "data": {
      "text/plain": [
       "522.0359855417518"
      ]
     },
     "execution_count": 104,
     "metadata": {},
     "output_type": "execute_result"
    }
   ],
   "source": [
    "np.linalg.norm((outline_points_1*decoded[0]+outline_points_2*decoded[1])-outline_points_0)"
   ]
  },
  {
   "cell_type": "code",
   "execution_count": null,
   "metadata": {},
   "outputs": [],
   "source": []
  }
 ],
 "metadata": {
  "kernelspec": {
   "display_name": "Python 3",
   "language": "python",
   "name": "python3"
  },
  "language_info": {
   "codemirror_mode": {
    "name": "ipython",
    "version": 3
   },
   "file_extension": ".py",
   "mimetype": "text/x-python",
   "name": "python",
   "nbconvert_exporter": "python",
   "pygments_lexer": "ipython3",
   "version": "3.7.0"
  }
 },
 "nbformat": 4,
 "nbformat_minor": 4
}
