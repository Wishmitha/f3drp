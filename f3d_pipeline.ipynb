{
 "cells": [
  {
   "cell_type": "code",
   "execution_count": 310,
   "metadata": {},
   "outputs": [],
   "source": [
    "%matplotlib widget\n",
    "\n",
    "from mpl_toolkits.mplot3d import Axes3D\n",
    "import matplotlib.pyplot as plt\n",
    "import numpy as np\n",
    "import pickle"
   ]
  },
  {
   "cell_type": "code",
   "execution_count": 399,
   "metadata": {},
   "outputs": [],
   "source": [
    "#parameters\n",
    "scan_id=3\n",
    "sample_rate=10\n",
    "no_of_lines =50\n",
    "line_tolarance=1.5"
   ]
  },
  {
   "cell_type": "code",
   "execution_count": 400,
   "metadata": {},
   "outputs": [],
   "source": [
    "def process_data(file, sample_rate = sample_rate):\n",
    "    coord = []\n",
    "    for point in file.readlines():\n",
    "        coord.append(list(map(float,point.split())))\n",
    "        \n",
    "    point_array_sampled = []\n",
    "    for i in range(0,len(coord),sample_rate):\n",
    "        point_array_sampled.append(coord[i])\n",
    "        \n",
    "    point_array_sampled = np.array(point_array_sampled)\n",
    "        \n",
    "    return np.array( point_array_sampled)"
   ]
  },
  {
   "cell_type": "code",
   "execution_count": 401,
   "metadata": {},
   "outputs": [],
   "source": [
    "def plot_graph(point_data,outline_points=None, lines=None):\n",
    "    fig = plt.figure()\n",
    "    ax = fig.add_subplot(111, projection='3d')\n",
    "\n",
    "    # Create cubic bounding box to simulate equal aspect ratio\n",
    "    X = point_data[:,0]\n",
    "    Y = point_data[:,1]\n",
    "    Z = point_data[:,2]\n",
    "\n",
    "    ax.scatter(point_data[:,0], point_data[:,1], point_data[:,2], s=1)\n",
    "\n",
    "    #bounding box to show foot in scale\n",
    "    max_range = np.array([X.max()-X.min(), Y.max()-Y.min(), Z.max()-Z.min()]).max()\n",
    "    Xb = 0.5*max_range*np.mgrid[-1:2:2,-1:2:2,-1:2:2][0].flatten() + 0.5*(X.max()+X.min())\n",
    "    Yb = 0.5*max_range*np.mgrid[-1:2:2,-1:2:2,-1:2:2][1].flatten() + 0.5*(Y.max()+Y.min())\n",
    "    Zb = 0.5*max_range*np.mgrid[-1:2:2,-1:2:2,-1:2:2][2].flatten() + 0.5*(Z.max()+Z.min())\n",
    "\n",
    "    for xb, yb, zb in zip(Xb, Yb, Zb):\n",
    "        ax.plot([xb], [yb], [zb], 'w')\n",
    "        \n",
    "    if (outline_points is not None):\n",
    "        flatten = outline_points.reshape(no_of_lines*2,3)\n",
    "        ax.scatter(flatten[:,0], flatten[:,1], flatten[:,2], s=500/no_of_lines, color='red')\n",
    "\n",
    "    plt.grid()\n",
    "    plt.show()"
   ]
  },
  {
   "cell_type": "code",
   "execution_count": 402,
   "metadata": {},
   "outputs": [],
   "source": [
    "def project_points(point_data, axis=1, height_limit=100000): #axis values x=0/y=1/z=2 implement limit\n",
    "    if(axis==0):\n",
    "        point_array[:,0]=0\n",
    "    if(axis==1):\n",
    "        point_array[:,1]=0\n",
    "    if(axis==2):\n",
    "        point_array[:,2]=0\n",
    "        \n",
    "    return point_array"
   ]
  },
  {
   "cell_type": "code",
   "execution_count": 526,
   "metadata": {},
   "outputs": [],
   "source": [
    "def get_outline(point_data, no_of_lines = no_of_lines, line_tolarance = line_tolarance):\n",
    "    \n",
    "    z_min = min(point_data[:,2])\n",
    "    z_max =max(point_data[:,2])\n",
    "    \n",
    "    step = (z_max-z_min)/(no_of_lines+1)\n",
    "    \n",
    "    lines = np.arange(z_min, z_max, step)[1:]\n",
    "    \n",
    "    outline_points=[]\n",
    "    \n",
    "    for line in lines:\n",
    "        line_points=[]\n",
    "        candidates = point_data[np.where(np.logical_and(point_data[:,2]>line, point_data[:,2]<line+line_tolarance))]\n",
    "        \n",
    "        if(len(candidates)==0 or len(outline_points)==no_of_lines):\n",
    "            break\n",
    "            \n",
    "        line_points.append(candidates[np.where(candidates[:,0]==min(candidates[:,0]))][0])\n",
    "        line_points.append(candidates[np.where(candidates[:,0]==max(candidates[:,0]))][0])\n",
    "        \n",
    "        \n",
    "        outline_points.append(line_points)\n",
    "        \n",
    "    return np.array(outline_points).reshape((no_of_lines,2,3)),lines"
   ]
  },
  {
   "cell_type": "code",
   "execution_count": 527,
   "metadata": {},
   "outputs": [],
   "source": [
    "points = open(\"Datasets/Foot Models/points/left/3/sub473ll.pts\")\n",
    "point_array = process_data(points)"
   ]
  },
  {
   "cell_type": "code",
   "execution_count": 528,
   "metadata": {},
   "outputs": [],
   "source": [
    "outline =get_outline(project_points(point_array))\n",
    "outline_points= outline[0]\n",
    "lines=outline[1]"
   ]
  },
  {
   "cell_type": "code",
   "execution_count": 529,
   "metadata": {},
   "outputs": [
    {
     "data": {
      "application/vnd.jupyter.widget-view+json": {
       "model_id": "ae93143a97be47b3b4370370c27a93e0",
       "version_major": 2,
       "version_minor": 0
      },
      "text/plain": [
       "Canvas(toolbar=Toolbar(toolitems=[('Home', 'Reset original view', 'home', 'home'), ('Back', 'Back to previous …"
      ]
     },
     "metadata": {},
     "output_type": "display_data"
    }
   ],
   "source": [
    "plot_graph(point_array,outline_points=outline_points)"
   ]
  },
  {
   "cell_type": "code",
   "execution_count": 530,
   "metadata": {},
   "outputs": [
    {
     "name": "stdout",
     "output_type": "stream",
     "text": [
      "2\n"
     ]
    },
    {
     "data": {
      "application/vnd.jupyter.widget-view+json": {
       "model_id": "f9d356721aa242008443d2a919d9735a",
       "version_major": 2,
       "version_minor": 0
      },
      "text/plain": [
       "Canvas(toolbar=Toolbar(toolitems=[('Home', 'Reset original view', 'home', 'home'), ('Back', 'Back to previous …"
      ]
     },
     "metadata": {},
     "output_type": "display_data"
    },
    {
     "name": "stdout",
     "output_type": "stream",
     "text": [
      "3\n"
     ]
    },
    {
     "data": {
      "application/vnd.jupyter.widget-view+json": {
       "model_id": "6b36966cc05b46198c15cb3cbc4a6a28",
       "version_major": 2,
       "version_minor": 0
      },
      "text/plain": [
       "Canvas(toolbar=Toolbar(toolitems=[('Home', 'Reset original view', 'home', 'home'), ('Back', 'Back to previous …"
      ]
     },
     "metadata": {},
     "output_type": "display_data"
    },
    {
     "name": "stdout",
     "output_type": "stream",
     "text": [
      "4\n"
     ]
    },
    {
     "data": {
      "application/vnd.jupyter.widget-view+json": {
       "model_id": "4e716efccdd34bcc90ecfd8a52f4a447",
       "version_major": 2,
       "version_minor": 0
      },
      "text/plain": [
       "Canvas(toolbar=Toolbar(toolitems=[('Home', 'Reset original view', 'home', 'home'), ('Back', 'Back to previous …"
      ]
     },
     "metadata": {},
     "output_type": "display_data"
    }
   ],
   "source": [
    "for i in range(2,5):\n",
    "    print(i)\n",
    "    points = open(\"Datasets/Foot Models/points/left/3/sub\"+str(i)+\"3ll.pts\")\n",
    "    point_array = process_data(points)\n",
    "    outline =get_outline(project_points(point_array))\n",
    "    outline_points= outline[0]\n",
    "    lines=outline[1]\n",
    "    plot_graph(point_array,outline_points=outline_points)"
   ]
  },
  {
   "cell_type": "code",
   "execution_count": null,
   "metadata": {},
   "outputs": [],
   "source": []
  }
 ],
 "metadata": {
  "kernelspec": {
   "display_name": "Python 3",
   "language": "python",
   "name": "python3"
  },
  "language_info": {
   "codemirror_mode": {
    "name": "ipython",
    "version": 3
   },
   "file_extension": ".py",
   "mimetype": "text/x-python",
   "name": "python",
   "nbconvert_exporter": "python",
   "pygments_lexer": "ipython3",
   "version": "3.7.0"
  }
 },
 "nbformat": 4,
 "nbformat_minor": 4
}
