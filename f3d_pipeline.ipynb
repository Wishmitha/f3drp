{
 "cells": [
  {
   "cell_type": "code",
   "execution_count": 310,
   "metadata": {},
   "outputs": [],
   "source": [
    "%matplotlib widget\n",
    "\n",
    "from mpl_toolkits.mplot3d import Axes3D\n",
    "import matplotlib.pyplot as plt\n",
    "import numpy as np"
   ]
  },
  {
   "cell_type": "code",
   "execution_count": 327,
   "metadata": {},
   "outputs": [],
   "source": [
    "#parameters\n",
    "\n",
    "sample_rate=10\n",
    "no_of_lines =50\n",
    "line_tolarance=1.5"
   ]
  },
  {
   "cell_type": "code",
   "execution_count": 320,
   "metadata": {},
   "outputs": [],
   "source": [
    "def process_data(file, sample_rate = sample_rate):\n",
    "    coord = []\n",
    "    for point in file.readlines():\n",
    "        coord.append(list(map(float,point.split())))\n",
    "        \n",
    "    point_array_sampled = []\n",
    "    for i in range(0,len(coord),sample_rate):\n",
    "        point_array_sampled.append(coord[i])\n",
    "        \n",
    "    point_array_sampled = np.array(point_array_sampled)\n",
    "        \n",
    "    return np.array( point_array_sampled)"
   ]
  },
  {
   "cell_type": "code",
   "execution_count": 321,
   "metadata": {},
   "outputs": [],
   "source": [
    "def plot_graph(point_data,outline_points=None, lines=None):\n",
    "    fig = plt.figure()\n",
    "    ax = fig.add_subplot(111, projection='3d')\n",
    "\n",
    "    # Create cubic bounding box to simulate equal aspect ratio\n",
    "    X = point_data[:,0]\n",
    "    Y = point_data[:,1]\n",
    "    Z = point_data[:,2]\n",
    "\n",
    "    ax.scatter(point_data[:,0], point_data[:,1], point_data[:,2], s=1)\n",
    "\n",
    "    #bounding box to show foot in scale\n",
    "    max_range = np.array([X.max()-X.min(), Y.max()-Y.min(), Z.max()-Z.min()]).max()\n",
    "    Xb = 0.5*max_range*np.mgrid[-1:2:2,-1:2:2,-1:2:2][0].flatten() + 0.5*(X.max()+X.min())\n",
    "    Yb = 0.5*max_range*np.mgrid[-1:2:2,-1:2:2,-1:2:2][1].flatten() + 0.5*(Y.max()+Y.min())\n",
    "    Zb = 0.5*max_range*np.mgrid[-1:2:2,-1:2:2,-1:2:2][2].flatten() + 0.5*(Z.max()+Z.min())\n",
    "\n",
    "    for xb, yb, zb in zip(Xb, Yb, Zb):\n",
    "        ax.plot([xb], [yb], [zb], 'w')\n",
    "        \n",
    "    if (outline_points is not None):\n",
    "        flatten = outline_points.reshape(no_of_lines*2,3)\n",
    "        ax.scatter(flatten[:,0], flatten[:,1], flatten[:,2], s=500/no_of_lines, color='red')\n",
    "\n",
    "    plt.grid()\n",
    "    plt.show()"
   ]
  },
  {
   "cell_type": "code",
   "execution_count": 322,
   "metadata": {},
   "outputs": [],
   "source": [
    "def project_points(point_data, axis=1, height_limit=100000): #axis values x=0/y=1/z=2 implement limit\n",
    "    if(axis==0):\n",
    "        point_array[:,0]=0\n",
    "    if(axis==1):\n",
    "        point_array[:,1]=0\n",
    "    if(axis==2):\n",
    "        point_array[:,2]=0\n",
    "        \n",
    "    return point_array"
   ]
  },
  {
   "cell_type": "code",
   "execution_count": 323,
   "metadata": {},
   "outputs": [],
   "source": [
    "def get_outline(point_data, no_of_lines = no_of_lines, line_tolarance = line_tolarance):\n",
    "    \n",
    "    z_min = min(point_data[:,2])\n",
    "    z_max =max(point_data[:,2])\n",
    "    \n",
    "    step = (z_max-z_min)/(no_of_lines+1)\n",
    "    \n",
    "    lines = np.arange(z_min, z_max, step)[1:]\n",
    "    \n",
    "    outline_points=[]\n",
    "    \n",
    "    for line in lines:\n",
    "        line_points=[]\n",
    "        candidates = point_data[np.where(np.logical_and(point_data[:,2]>line, point_data[:,2]<line+line_tolarance))]\n",
    "        line_points.append(candidates[np.where(candidates[:,0]==min(candidates[:,0]))][0])\n",
    "        line_points.append(candidates[np.where(candidates[:,0]==max(candidates[:,0]))][0])\n",
    "        \n",
    "        outline_points.append(line_points)\n",
    "        \n",
    "    print(len(outline_points))\n",
    "        \n",
    "    return np.array(outline_points).reshape((no_of_lines,2,3)),lines"
   ]
  },
  {
   "cell_type": "code",
   "execution_count": 328,
   "metadata": {},
   "outputs": [],
   "source": [
    "points = open(\"Datasets/Original Foot Data/Processed/sb1255ll.pts\")\n",
    "point_array = process_data(points)"
   ]
  },
  {
   "cell_type": "code",
   "execution_count": 329,
   "metadata": {},
   "outputs": [
    {
     "name": "stdout",
     "output_type": "stream",
     "text": [
      "200\n"
     ]
    }
   ],
   "source": [
    "outline =get_outline(project_points(point_array))\n",
    "outline_points= outline[0]\n",
    "lines=outline[1]"
   ]
  },
  {
   "cell_type": "code",
   "execution_count": 330,
   "metadata": {},
   "outputs": [
    {
     "data": {
      "application/vnd.jupyter.widget-view+json": {
       "model_id": "47060bb5b2b24f0f8fe1a0982cdda750",
       "version_major": 2,
       "version_minor": 0
      },
      "text/plain": [
       "Canvas(toolbar=Toolbar(toolitems=[('Home', 'Reset original view', 'home', 'home'), ('Back', 'Back to previous …"
      ]
     },
     "metadata": {},
     "output_type": "display_data"
    },
    {
     "ename": "ValueError",
     "evalue": "cannot reshape array of size 1200 into shape (100,3)",
     "output_type": "error",
     "traceback": [
      "\u001b[0;31m---------------------------------------------------------------------------\u001b[0m",
      "\u001b[0;31mValueError\u001b[0m                                Traceback (most recent call last)",
      "\u001b[0;32m<ipython-input-330-b83f8807b903>\u001b[0m in \u001b[0;36m<module>\u001b[0;34m\u001b[0m\n\u001b[0;32m----> 1\u001b[0;31m \u001b[0mplot_graph\u001b[0m\u001b[0;34m(\u001b[0m\u001b[0mpoint_array\u001b[0m\u001b[0;34m,\u001b[0m\u001b[0moutline_points\u001b[0m\u001b[0;34m=\u001b[0m\u001b[0moutline_points\u001b[0m\u001b[0;34m)\u001b[0m\u001b[0;34m\u001b[0m\u001b[0m\n\u001b[0m",
      "\u001b[0;32m<ipython-input-321-40e2f09cea23>\u001b[0m in \u001b[0;36mplot_graph\u001b[0;34m(point_data, outline_points, lines)\u001b[0m\n\u001b[1;32m     20\u001b[0m \u001b[0;34m\u001b[0m\u001b[0m\n\u001b[1;32m     21\u001b[0m     \u001b[0;32mif\u001b[0m \u001b[0;34m(\u001b[0m\u001b[0moutline_points\u001b[0m \u001b[0;32mis\u001b[0m \u001b[0;32mnot\u001b[0m \u001b[0;32mNone\u001b[0m\u001b[0;34m)\u001b[0m\u001b[0;34m:\u001b[0m\u001b[0;34m\u001b[0m\u001b[0m\n\u001b[0;32m---> 22\u001b[0;31m         \u001b[0mflatten\u001b[0m \u001b[0;34m=\u001b[0m \u001b[0moutline_points\u001b[0m\u001b[0;34m.\u001b[0m\u001b[0mreshape\u001b[0m\u001b[0;34m(\u001b[0m\u001b[0mno_of_lines\u001b[0m\u001b[0;34m*\u001b[0m\u001b[0;36m2\u001b[0m\u001b[0;34m,\u001b[0m\u001b[0;36m3\u001b[0m\u001b[0;34m)\u001b[0m\u001b[0;34m\u001b[0m\u001b[0m\n\u001b[0m\u001b[1;32m     23\u001b[0m         \u001b[0max\u001b[0m\u001b[0;34m.\u001b[0m\u001b[0mscatter\u001b[0m\u001b[0;34m(\u001b[0m\u001b[0mflatten\u001b[0m\u001b[0;34m[\u001b[0m\u001b[0;34m:\u001b[0m\u001b[0;34m,\u001b[0m\u001b[0;36m0\u001b[0m\u001b[0;34m]\u001b[0m\u001b[0;34m,\u001b[0m \u001b[0mflatten\u001b[0m\u001b[0;34m[\u001b[0m\u001b[0;34m:\u001b[0m\u001b[0;34m,\u001b[0m\u001b[0;36m1\u001b[0m\u001b[0;34m]\u001b[0m\u001b[0;34m,\u001b[0m \u001b[0mflatten\u001b[0m\u001b[0;34m[\u001b[0m\u001b[0;34m:\u001b[0m\u001b[0;34m,\u001b[0m\u001b[0;36m2\u001b[0m\u001b[0;34m]\u001b[0m\u001b[0;34m,\u001b[0m \u001b[0ms\u001b[0m\u001b[0;34m=\u001b[0m\u001b[0;36m500\u001b[0m\u001b[0;34m/\u001b[0m\u001b[0mno_of_lines\u001b[0m\u001b[0;34m,\u001b[0m \u001b[0mcolor\u001b[0m\u001b[0;34m=\u001b[0m\u001b[0;34m'red'\u001b[0m\u001b[0;34m)\u001b[0m\u001b[0;34m\u001b[0m\u001b[0m\n\u001b[1;32m     24\u001b[0m \u001b[0;34m\u001b[0m\u001b[0m\n",
      "\u001b[0;31mValueError\u001b[0m: cannot reshape array of size 1200 into shape (100,3)"
     ]
    }
   ],
   "source": [
    "plot_graph(point_array,outline_points=outline_points)"
   ]
  },
  {
   "cell_type": "code",
   "execution_count": 153,
   "metadata": {},
   "outputs": [
    {
     "data": {
      "text/plain": [
       "array([[-42.094639,   0.      , 156.270004],\n",
       "       [ 34.385372,   0.      , 156.270004],\n",
       "       [-44.994091,   0.      , 196.280014],\n",
       "       [ 45.159794,   0.      , 196.280014],\n",
       "       [-40.907536,   0.      , 236.220001],\n",
       "       [ 44.268547,   0.      , 236.220001],\n",
       "       [-39.90551 ,   0.      , 277.180023],\n",
       "       [ 34.580723,   0.      , 277.180023],\n",
       "       [-31.841209,   0.      , 317.180023],\n",
       "       [ 31.206987,   0.      , 317.180023]])"
      ]
     },
     "execution_count": 153,
     "metadata": {},
     "output_type": "execute_result"
    }
   ],
   "source": [
    "a"
   ]
  },
  {
   "cell_type": "code",
   "execution_count": 154,
   "metadata": {},
   "outputs": [
    {
     "data": {
      "text/plain": [
       "array([-42.094639,  34.385372, -44.994091,  45.159794, -40.907536,\n",
       "        44.268547, -39.90551 ,  34.580723, -31.841209,  31.206987])"
      ]
     },
     "execution_count": 154,
     "metadata": {},
     "output_type": "execute_result"
    }
   ],
   "source": [
    "a[:,0]"
   ]
  },
  {
   "cell_type": "code",
   "execution_count": null,
   "metadata": {},
   "outputs": [],
   "source": []
  }
 ],
 "metadata": {
  "kernelspec": {
   "display_name": "Python 3",
   "language": "python",
   "name": "python3"
  },
  "language_info": {
   "codemirror_mode": {
    "name": "ipython",
    "version": 3
   },
   "file_extension": ".py",
   "mimetype": "text/x-python",
   "name": "python",
   "nbconvert_exporter": "python",
   "pygments_lexer": "ipython3",
   "version": "3.7.0"
  }
 },
 "nbformat": 4,
 "nbformat_minor": 4
}
