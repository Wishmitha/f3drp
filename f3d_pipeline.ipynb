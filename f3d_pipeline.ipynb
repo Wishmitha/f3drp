{
 "cells": [
  {
   "cell_type": "code",
   "execution_count": 2,
   "metadata": {},
   "outputs": [],
   "source": [
    "%matplotlib widget\n",
    "\n",
    "from mpl_toolkits.mplot3d import Axes3D\n",
    "import matplotlib.pyplot as plt\n",
    "import numpy as np\n",
    "import pickle\n",
    "import pandas as pd"
   ]
  },
  {
   "cell_type": "code",
   "execution_count": 3,
   "metadata": {},
   "outputs": [],
   "source": [
    "#parameters\n",
    "scan_id=3\n",
    "sample_rate=10\n",
    "no_of_lines =50\n",
    "line_tolarance=1.5\n",
    "model_name=\"svm\""
   ]
  },
  {
   "cell_type": "code",
   "execution_count": 4,
   "metadata": {},
   "outputs": [],
   "source": [
    "def process_data(file, sample_rate = sample_rate):\n",
    "    coord = []\n",
    "    for point in file.readlines():\n",
    "        coord.append(list(map(float,point.split())))\n",
    "        \n",
    "    point_array_sampled = []\n",
    "    for i in range(0,len(coord),sample_rate):\n",
    "        point_array_sampled.append(coord[i])\n",
    "        \n",
    "    point_array_sampled = np.array(point_array_sampled)\n",
    "        \n",
    "    return np.array( point_array_sampled)"
   ]
  },
  {
   "cell_type": "code",
   "execution_count": 5,
   "metadata": {},
   "outputs": [],
   "source": [
    "def plot_graph(point_data,outline_points=None, lines=None):\n",
    "    fig = plt.figure()\n",
    "    ax = fig.add_subplot(111, projection='3d')\n",
    "\n",
    "    # Create cubic bounding box to simulate equal aspect ratio\n",
    "    X = point_data[:,0]\n",
    "    Y = point_data[:,1]\n",
    "    Z = point_data[:,2]\n",
    "\n",
    "    ax.scatter(point_data[:,0], point_data[:,1], point_data[:,2], s=1)\n",
    "\n",
    "    #bounding box to show foot in scale\n",
    "    max_range = np.array([X.max()-X.min(), Y.max()-Y.min(), Z.max()-Z.min()]).max()\n",
    "    Xb = 0.5*max_range*np.mgrid[-1:2:2,-1:2:2,-1:2:2][0].flatten() + 0.5*(X.max()+X.min())\n",
    "    Yb = 0.5*max_range*np.mgrid[-1:2:2,-1:2:2,-1:2:2][1].flatten() + 0.5*(Y.max()+Y.min())\n",
    "    Zb = 0.5*max_range*np.mgrid[-1:2:2,-1:2:2,-1:2:2][2].flatten() + 0.5*(Z.max()+Z.min())\n",
    "\n",
    "    for xb, yb, zb in zip(Xb, Yb, Zb):\n",
    "        ax.plot([xb], [yb], [zb], 'w')\n",
    "        \n",
    "    if (outline_points is not None):\n",
    "        flatten = outline_points.reshape(no_of_lines*2,3)\n",
    "        ax.scatter(flatten[:,0], flatten[:,1], flatten[:,2], s=500/no_of_lines, color='red')\n",
    "\n",
    "    plt.grid()"
   ]
  },
  {
   "cell_type": "code",
   "execution_count": 6,
   "metadata": {},
   "outputs": [],
   "source": [
    "def project_points(point_array, axis=1, height_limit=100000): #axis values x=0/y=1/z=2 implement limit\n",
    "    if(axis==0):\n",
    "        point_array[:,0]=0\n",
    "    if(axis==1):\n",
    "        point_array[:,1]=0\n",
    "    if(axis==2):\n",
    "        point_array[:,2]=0\n",
    "        \n",
    "    return point_array"
   ]
  },
  {
   "cell_type": "code",
   "execution_count": 7,
   "metadata": {},
   "outputs": [],
   "source": [
    "def get_outline(point_data, no_of_lines = no_of_lines, line_tolarance = line_tolarance):\n",
    "    \n",
    "    z_min = min(point_data[:,2])\n",
    "    z_max =max(point_data[:,2])\n",
    "    \n",
    "    step = (z_max-z_min)/(no_of_lines+1)\n",
    "    \n",
    "    lines = np.arange(z_min, z_max, step)[1:]\n",
    "    \n",
    "    outline_points=[]\n",
    "    \n",
    "    for line in lines:\n",
    "        line_points=[]\n",
    "        candidates = point_data[np.where(np.logical_and(point_data[:,2]>line, point_data[:,2]<line+line_tolarance))]\n",
    "        \n",
    "        if(len(candidates)==0 or len(outline_points)==no_of_lines):\n",
    "            break\n",
    "            \n",
    "        line_points.append(candidates[np.where(candidates[:,0]==min(candidates[:,0]))][0])\n",
    "        line_points.append(candidates[np.where(candidates[:,0]==max(candidates[:,0]))][0])\n",
    "        \n",
    "        \n",
    "        outline_points.append(line_points)\n",
    "        \n",
    "    return np.array(outline_points).reshape((no_of_lines,2,3)),lines"
   ]
  },
  {
   "cell_type": "code",
   "execution_count": 8,
   "metadata": {},
   "outputs": [],
   "source": [
    "def read_dataset():\n",
    "    all_set = pd.read_csv(\"Datasets/all_data.csv\", sep=',',header=0)\n",
    "    train_set=pd.read_csv(\"Datasets/train_set.csv\", sep=',',header=0)\n",
    "    test_set=pd.read_csv(\"Datasets/test_set.csv\", sep=',',header=0)\n",
    "    \n",
    "    return all_set.drop(all_set.index[[0,1]]),train_set.drop(train_set.index[[0,1]]), test_set.drop(test_set.index[[0,1]])"
   ]
  },
  {
   "cell_type": "code",
   "execution_count": 9,
   "metadata": {},
   "outputs": [],
   "source": [
    "def load_model(model=model_name):\n",
    "    if(model==\"svm\"):\n",
    "        return pickle.load(open(\"Models/SVM_Classifier.pkcls\", 'rb'))\n",
    "    else:\n",
    "        return"
   ]
  },
  {
   "cell_type": "code",
   "execution_count": 10,
   "metadata": {},
   "outputs": [],
   "source": [
    "points_1 = open(\"Datasets/Foot Models/points/left/3/sub473ll.pts\")\n",
    "point_array_1 = process_data(points_1)\n",
    "projection_1 = project_points(point_array_1)\n",
    "outline_1 =get_outline(projection_1)\n",
    "outline_points_1= outline_1[0]\n",
    "lines_1=outline_1[1]"
   ]
  },
  {
   "cell_type": "code",
   "execution_count": 11,
   "metadata": {},
   "outputs": [],
   "source": [
    "points_2 = open(\"Datasets/Foot Models/points/left/3/sub1673ll.pts\")\n",
    "point_array_2 = process_data(points_2)\n",
    "projection_2 = project_points(point_array_2)\n",
    "outline_2 =get_outline(projection_2)\n",
    "outline_points_2= outline_2[0]\n",
    "lines_2=outline_2[1]"
   ]
  },
  {
   "cell_type": "code",
   "execution_count": 12,
   "metadata": {},
   "outputs": [],
   "source": [
    "points_3 = open(\"Datasets/Foot Models/points/left/3/sub113ll.pts\")\n",
    "point_array_3 = process_data(points_3)\n",
    "projection_3 = project_points(point_array_3)\n",
    "outline_3 =get_outline(projection_3)\n",
    "outline_points_3= outline_3[0]\n",
    "lines_3=outline_3[1]"
   ]
  },
  {
   "cell_type": "code",
   "execution_count": 13,
   "metadata": {},
   "outputs": [
    {
     "data": {
      "application/vnd.jupyter.widget-view+json": {
       "model_id": "e528a8ba0b5149a1b4a9e9c6d428df21",
       "version_major": 2,
       "version_minor": 0
      },
      "text/plain": [
       "Canvas(toolbar=Toolbar(toolitems=[('Home', 'Reset original view', 'home', 'home'), ('Back', 'Back to previous …"
      ]
     },
     "metadata": {},
     "output_type": "display_data"
    }
   ],
   "source": [
    "plot_graph(projection_1, outline_points=outline_points_1)"
   ]
  },
  {
   "cell_type": "code",
   "execution_count": 14,
   "metadata": {},
   "outputs": [
    {
     "data": {
      "application/vnd.jupyter.widget-view+json": {
       "model_id": "f311f2e1c6b64fb3b362d943cdefbdab",
       "version_major": 2,
       "version_minor": 0
      },
      "text/plain": [
       "Canvas(toolbar=Toolbar(toolitems=[('Home', 'Reset original view', 'home', 'home'), ('Back', 'Back to previous …"
      ]
     },
     "metadata": {},
     "output_type": "display_data"
    }
   ],
   "source": [
    "plot_graph(projection_2,outline_points=outline_points_2)"
   ]
  },
  {
   "cell_type": "code",
   "execution_count": 15,
   "metadata": {},
   "outputs": [
    {
     "data": {
      "application/vnd.jupyter.widget-view+json": {
       "model_id": "fa5537fb8aee4198ab7dc9dd5a892c44",
       "version_major": 2,
       "version_minor": 0
      },
      "text/plain": [
       "Canvas(toolbar=Toolbar(toolitems=[('Home', 'Reset original view', 'home', 'home'), ('Back', 'Back to previous …"
      ]
     },
     "metadata": {},
     "output_type": "display_data"
    }
   ],
   "source": [
    "plot_graph(projection_3,outline_points=outline_points_3)"
   ]
  },
  {
   "cell_type": "code",
   "execution_count": 16,
   "metadata": {},
   "outputs": [],
   "source": [
    "dataset= read_dataset()\n",
    "all_data= dataset[0]\n",
    "train_set = dataset[1]\n",
    "test_set = dataset[2]"
   ]
  },
  {
   "cell_type": "code",
   "execution_count": 17,
   "metadata": {},
   "outputs": [],
   "source": [
    "model=load_model() #implement classification model\n",
    "test_features=test_set[[\"No.\",\"Cluster\",\"Foot Length\",\"Foot Breadth 1\",\"Short Heel Girth\"]]"
   ]
  },
  {
   "cell_type": "code",
   "execution_count": 18,
   "metadata": {},
   "outputs": [
    {
     "name": "stdout",
     "output_type": "stream",
     "text": [
      "50 50 50\n"
     ]
    }
   ],
   "source": [
    "print(len(outline_points_1),len(outline_points_2),len(outline_points_3))"
   ]
  },
  {
   "cell_type": "code",
   "execution_count": 19,
   "metadata": {},
   "outputs": [
    {
     "data": {
      "text/plain": [
       "array([-39.051582,   0.      , 127.890007])"
      ]
     },
     "execution_count": 19,
     "metadata": {},
     "output_type": "execute_result"
    }
   ],
   "source": [
    "outline_points_3[0][0]"
   ]
  },
  {
   "cell_type": "code",
   "execution_count": 24,
   "metadata": {},
   "outputs": [
    {
     "name": "stdout",
     "output_type": "stream",
     "text": [
      ">0, new best f([4.43634033203125, 1.26129150390625]) = 17.334146\n",
      ">0, new best f([2.320556640625, -0.7501220703125]) = 9.140631\n",
      ">0, new best f([2.701263427734375, 0.0628662109375]) = 5.327034\n",
      ">0, new best f([-1.920166015625, 0.675048828125]) = 0.442807\n",
      ">1, new best f([-1.920166015625, 0.67535400390625]) = 0.440594\n",
      ">3, new best f([-1.920166015625, 0.71441650390625]) = 0.312581\n",
      ">4, new best f([-1.73126220703125, 0.69305419921875]) = 0.178258\n",
      ">5, new best f([-1.70623779296875, 0.676116943359375]) = 0.056812\n",
      ">6, new best f([-1.70623779296875, 0.67596435546875]) = 0.055989\n",
      ">9, new best f([-1.654052734375, 0.6658935546875]) = 0.019600\n",
      ">12, new best f([-1.65435791015625, 0.6658935546875]) = 0.019007\n",
      ">13, new best f([-1.65924072265625, 0.6658935546875]) = 0.009830\n",
      ">21, new best f([-1.65985107421875, 0.6658935546875]) = 0.008773\n",
      ">22, new best f([-1.67327880859375, 0.66802978515625]) = 0.008501\n",
      ">24, new best f([-1.66351318359375, 0.665435791015625]) = 0.008190\n",
      ">24, new best f([-1.67327880859375, 0.667877197265625]) = 0.008080\n",
      ">30, new best f([-1.66778564453125, 0.66619873046875]) = 0.006608\n",
      ">31, new best f([-1.66290283203125, 0.66619873046875]) = 0.004712\n",
      ">36, new best f([-1.6656494140625, 0.66619873046875]) = 0.003287\n",
      ">50, new best f([-1.66717529296875, 0.666656494140625]) = 0.001100\n",
      ">58, new best f([-1.66717529296875, 0.66680908203125]) = 0.000863\n",
      ">331, new best f([-1.66656494140625, 0.666656494140625]) = 0.000136\n",
      "Done!\n",
      "f([-1.66656494140625, 0.666656494140625]) = 0.000136\n"
     ]
    }
   ],
   "source": [
    "# genetic algorithm search for continuous function optimization\n",
    "from numpy.random import randint\n",
    "from numpy.random import rand\n",
    "\n",
    "# objective function to minimize\n",
    "def objective(x):\n",
    "    func = np.linalg.norm((x[0]*np.array([0,1]) + x[1]*np.array([3,4]))-np.array([2,1])) + np.linalg.norm((x[0]*np.array([0,1]) + x[1]*np.array([3,4]))-np.array([2,1]))\n",
    "    return func\n",
    "\n",
    "# decode bitstring to numbers\n",
    "def decode(bounds, n_bits, bitstring):\n",
    "    decoded = list()\n",
    "    largest = 2**n_bits\n",
    "    for i in range(len(bounds)):\n",
    "        # extract the substring\n",
    "        start, end = i * n_bits, (i * n_bits)+n_bits\n",
    "        substring = bitstring[start:end]\n",
    "        # convert bitstring to a string of chars\n",
    "        chars = ''.join([str(s) for s in substring])\n",
    "        # convert string to integer\n",
    "        integer = int(chars, 2)\n",
    "        # scale integer to desired range\n",
    "        value = bounds[i][0] + (integer/largest) * (bounds[i][1] - bounds[i][0])\n",
    "        # store\n",
    "        decoded.append(value)\n",
    "    return decoded\n",
    "\n",
    "# tournament selection\n",
    "def selection(pop, scores, k=3):\n",
    "    # first random selection\n",
    "    selection_ix = randint(len(pop))\n",
    "    for ix in randint(0, len(pop), k-1):\n",
    "        # check if better (e.g. perform a tournament)\n",
    "        if scores[ix] < scores[selection_ix]:\n",
    "            selection_ix = ix\n",
    "    return pop[selection_ix]\n",
    "\n",
    "# crossover two parents to create two children\n",
    "def crossover(p1, p2, r_cross):\n",
    "    # children are copies of parents by default\n",
    "    c1, c2 = p1.copy(), p2.copy()\n",
    "    # check for recombination\n",
    "    if rand() < r_cross:\n",
    "        # select crossover point that is not on the end of the string\n",
    "        pt = randint(1, len(p1)-2)\n",
    "        # perform crossover\n",
    "        c1 = p1[:pt] + p2[pt:]\n",
    "        c2 = p2[:pt] + p1[pt:]\n",
    "    return [c1, c2]\n",
    "\n",
    "# mutation operator\n",
    "def mutation(bitstring, r_mut):\n",
    "    for i in range(len(bitstring)):\n",
    "        # check for a mutation\n",
    "        if rand() < r_mut:\n",
    "            # flip the bit\n",
    "            bitstring[i] = 1 - bitstring[i]\n",
    "\n",
    "# genetic algorithm\n",
    "def genetic_algorithm(objective, bounds, n_bits, n_iter, n_pop, r_cross, r_mut):\n",
    "    # initial population of random bitstring\n",
    "    pop = [randint(0, 2, n_bits*len(bounds)).tolist() for _ in range(n_pop)]\n",
    "    # keep track of best solution\n",
    "    best, best_eval = 0, objective(decode(bounds, n_bits, pop[0]))\n",
    "    # enumerate generations\n",
    "    for gen in range(n_iter):\n",
    "\n",
    "        # decode population\n",
    "        decoded = [decode(bounds, n_bits, p) for p in pop]\n",
    "        # evaluate all candidates in the population\n",
    "        scores = [objective(d) for d in decoded]\n",
    "        # check for new best solution\n",
    "        for i in range(n_pop):\n",
    "            if scores[i] < best_eval:\n",
    "                best, best_eval = pop[i], scores[i]\n",
    "                print(\">%d, new best f(%s) = %f\" % (gen,  decoded[i], scores[i]))\n",
    "        # select parents\n",
    "        selected = [selection(pop, scores) for _ in range(n_pop)]\n",
    "        # create the next generation\n",
    "        children = list()\n",
    "        for i in range(0, n_pop, 2):\n",
    "            # get selected parents in pairs\n",
    "            p1, p2 = selected[i], selected[i+1]\n",
    "            # crossover and mutation\n",
    "            for c in crossover(p1, p2, r_cross):\n",
    "                # mutation\n",
    "                mutation(c, r_mut)\n",
    "                # store for next generation\n",
    "                children.append(c)\n",
    "        # replace population\n",
    "        pop = children\n",
    "    return [best, best_eval]\n",
    "\n",
    "# define range for input\n",
    "bounds = [[-5,5], [-5,5]]\n",
    "# define the total iterations\n",
    "n_iter = 1000\n",
    "# bits per variable\n",
    "n_bits = 16\n",
    "# define the population size\n",
    "n_pop = 100\n",
    "# crossover rate\n",
    "r_cross = 0.9\n",
    "# mutation rate\n",
    "r_mut = 1.0 / (float(n_bits) * len(bounds))\n",
    "# perform the genetic algorithm search\n",
    "best, score = genetic_algorithm(objective, bounds, n_bits, n_iter, n_pop, r_cross, r_mut)\n",
    "print('Done!')\n",
    "decoded = decode(bounds, n_bits, best)\n",
    "print('f(%s) = %f' % (decoded, score))\n",
    "\n",
    "\n",
    "#set bound to (-1 to 1) and normalize the foots to max length foot"
   ]
  },
  {
   "cell_type": "code",
   "execution_count": null,
   "metadata": {},
   "outputs": [],
   "source": []
  }
 ],
 "metadata": {
  "kernelspec": {
   "display_name": "Python 3",
   "language": "python",
   "name": "python3"
  },
  "language_info": {
   "codemirror_mode": {
    "name": "ipython",
    "version": 3
   },
   "file_extension": ".py",
   "mimetype": "text/x-python",
   "name": "python",
   "nbconvert_exporter": "python",
   "pygments_lexer": "ipython3",
   "version": "3.7.0"
  }
 },
 "nbformat": 4,
 "nbformat_minor": 4
}
