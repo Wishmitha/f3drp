{
 "cells": [
  {
   "cell_type": "code",
   "execution_count": 1,
   "metadata": {},
   "outputs": [],
   "source": [
    "%matplotlib widget\n",
    "\n",
    "from mpl_toolkits.mplot3d import Axes3D\n",
    "import matplotlib.pyplot as plt\n",
    "import numpy as np"
   ]
  },
  {
   "cell_type": "code",
   "execution_count": 2,
   "metadata": {},
   "outputs": [],
   "source": [
    "def process_data(file):\n",
    "    coord = []\n",
    "    for point in file.readlines():\n",
    "        coord.append(list(map(float,point.split())))\n",
    "        \n",
    "    return np.array(coord)"
   ]
  },
  {
   "cell_type": "code",
   "execution_count": 3,
   "metadata": {},
   "outputs": [],
   "source": [
    "points = open(\"Datasets/Original Foot Data/Processed/sb1255ll.pts\")\n",
    "landmarks = open(\"Datasets/Original Foot Data/Processed/sb1255ll.lan\")"
   ]
  },
  {
   "cell_type": "code",
   "execution_count": 4,
   "metadata": {},
   "outputs": [],
   "source": [
    "point_array = process_data(points)\n",
    "landmark_array = process_data(landmarks)"
   ]
  },
  {
   "cell_type": "code",
   "execution_count": 5,
   "metadata": {},
   "outputs": [],
   "source": [
    "point_array_sampled = []\n",
    "\n",
    "for i in range(0,len(point_array),20):\n",
    "    point_array_sampled.append(point_array[i])\n",
    "\n",
    "point_array_sampled = np.array(point_array_sampled)"
   ]
  },
  {
   "cell_type": "code",
   "execution_count": 6,
   "metadata": {},
   "outputs": [
    {
     "name": "stdout",
     "output_type": "stream",
     "text": [
      "No of Landmarks: 15\n",
      "No of Points: 88200\n",
      "No of Sampled Points: 4410\n"
     ]
    }
   ],
   "source": [
    "print(\"No of Landmarks:\", len(landmark_array))\n",
    "print(\"No of Points:\", len(point_array))\n",
    "print(\"No of Sampled Points:\", len(point_array_sampled))"
   ]
  },
  {
   "cell_type": "code",
   "execution_count": 7,
   "metadata": {},
   "outputs": [
    {
     "data": {
      "application/vnd.jupyter.widget-view+json": {
       "model_id": "51721ca71da24f47a4fe67853e3a47a7",
       "version_major": 2,
       "version_minor": 0
      },
      "text/plain": [
       "Canvas(toolbar=Toolbar(toolitems=[('Home', 'Reset original view', 'home', 'home'), ('Back', 'Back to previous …"
      ]
     },
     "metadata": {},
     "output_type": "display_data"
    }
   ],
   "source": [
    "fig = plt.figure()\n",
    "ax = fig.add_subplot(111, projection='3d')\n",
    "\n",
    "# Create cubic bounding box to simulate equal aspect ratio\n",
    "X = point_array_sampled[:,0]\n",
    "Y = point_array_sampled[:,1]\n",
    "Z = point_array_sampled[:,2]\n",
    "\n",
    "#ax.scatter(point_array[:,0], point_array[:,1], point_array[:,2], s=0.005)\n",
    "ax.scatter(point_array_sampled[:,0], point_array_sampled[:,1], point_array_sampled[:,2], s=1)\n",
    "ax.scatter(landmark_array[:,0], landmark_array[:,1], landmark_array[:,2], s=50, c='r', marker='^')\n",
    "\n",
    "#bounding box to show foot in scale\n",
    "max_range = np.array([X.max()-X.min(), Y.max()-Y.min(), Z.max()-Z.min()]).max()\n",
    "Xb = 0.5*max_range*np.mgrid[-1:2:2,-1:2:2,-1:2:2][0].flatten() + 0.5*(X.max()+X.min())\n",
    "Yb = 0.5*max_range*np.mgrid[-1:2:2,-1:2:2,-1:2:2][1].flatten() + 0.5*(Y.max()+Y.min())\n",
    "Zb = 0.5*max_range*np.mgrid[-1:2:2,-1:2:2,-1:2:2][2].flatten() + 0.5*(Z.max()+Z.min())\n",
    "\n",
    "for xb, yb, zb in zip(Xb, Yb, Zb):\n",
    "    ax.plot([xb], [yb], [zb], 'w')\n",
    "\n",
    "plt.grid()\n",
    "plt.show()"
   ]
  },
  {
   "cell_type": "code",
   "execution_count": 8,
   "metadata": {},
   "outputs": [],
   "source": [
    "import sys\n",
    "sys.path.insert(1, 'Repos/PyGeM/build/lib')"
   ]
  },
  {
   "cell_type": "code",
   "execution_count": 9,
   "metadata": {},
   "outputs": [],
   "source": [
    "from pygem import RBF\n",
    "import numpy as np"
   ]
  },
  {
   "cell_type": "code",
   "execution_count": 10,
   "metadata": {},
   "outputs": [],
   "source": [
    "ocp = landmark_array\n",
    "dcp = np.append(landmark_array[:-1],[landmark_array[-1]*5],axis=0)\n",
    "#dcp = landmark_array*np.random.rand(landmark_array.shape[0],landmark_array.shape[1])\n",
    "#dcp = landmark_array*5"
   ]
  },
  {
   "cell_type": "code",
   "execution_count": 11,
   "metadata": {},
   "outputs": [],
   "source": [
    "rbf = RBF(original_control_points=ocp, deformed_control_points = dcp)"
   ]
  },
  {
   "cell_type": "code",
   "execution_count": 12,
   "metadata": {},
   "outputs": [],
   "source": [
    "deformed_points=rbf(point_array_sampled)"
   ]
  },
  {
   "cell_type": "code",
   "execution_count": 13,
   "metadata": {},
   "outputs": [
    {
     "data": {
      "application/vnd.jupyter.widget-view+json": {
       "model_id": "4cdb36f4df6c42d6b7b840d3e7b77eaf",
       "version_major": 2,
       "version_minor": 0
      },
      "text/plain": [
       "Canvas(toolbar=Toolbar(toolitems=[('Home', 'Reset original view', 'home', 'home'), ('Back', 'Back to previous …"
      ]
     },
     "metadata": {},
     "output_type": "display_data"
    }
   ],
   "source": [
    "fig2 = plt.figure()\n",
    "ax = fig2.add_subplot(111, projection='3d')\n",
    "\n",
    "# Create cubic bounding box to simulate equal aspect ratio\n",
    "X = deformed_points[:,0]\n",
    "Y = deformed_points[:,1]\n",
    "Z = deformed_points[:,2]\n",
    "\n",
    "#ax.scatter(point_array[:,0], point_array[:,1], point_array[:,2], s=0.005)\n",
    "ax.scatter(deformed_points[:,0], deformed_points[:,1], deformed_points[:,2], s=1)\n",
    "ax.scatter(dcp[:,0], dcp[:,1], dcp[:,2], s=50, c='r', marker='^')\n",
    "\n",
    "#bounding box to show foot in scale\n",
    "max_range = np.array([X.max()-X.min(), Y.max()-Y.min(), Z.max()-Z.min()]).max()\n",
    "Xb = 0.5*max_range*np.mgrid[-1:2:2,-1:2:2,-1:2:2][0].flatten() + 0.5*(X.max()+X.min())\n",
    "Yb = 0.5*max_range*np.mgrid[-1:2:2,-1:2:2,-1:2:2][1].flatten() + 0.5*(Y.max()+Y.min())\n",
    "Zb = 0.5*max_range*np.mgrid[-1:2:2,-1:2:2,-1:2:2][2].flatten() + 0.5*(Z.max()+Z.min())\n",
    "\n",
    "for xb, yb, zb in zip(Xb, Yb, Zb):\n",
    "    ax.plot([xb], [yb], [zb], 'w')\n",
    "\n",
    "plt.grid()\n",
    "plt.show()"
   ]
  },
  {
   "cell_type": "code",
   "execution_count": 14,
   "metadata": {},
   "outputs": [
    {
     "data": {
      "text/plain": [
       "array([[-27.93299947, 107.53185293, 257.87701691],\n",
       "       [-28.07418583, 107.6355058 , 258.05251008],\n",
       "       [-28.20026594, 107.81913213, 258.3074694 ],\n",
       "       ...,\n",
       "       [  4.63908907,   9.54616032, 281.11566709],\n",
       "       [  4.55180295,   9.37965514, 280.97539705],\n",
       "       [  4.43125787,   9.29700859, 280.9405951 ]])"
      ]
     },
     "execution_count": 14,
     "metadata": {},
     "output_type": "execute_result"
    }
   ],
   "source": [
    "deformed_points"
   ]
  },
  {
   "cell_type": "code",
   "execution_count": 15,
   "metadata": {},
   "outputs": [
    {
     "data": {
      "text/plain": [
       "array([[-24.006981,  44.700062, 114.943993],\n",
       "       [-24.143347,  44.72657 , 114.943993],\n",
       "       [-24.262424,  44.798119, 114.943993],\n",
       "       ...,\n",
       "       [  2.542867,  43.093987, 357.432007],\n",
       "       [  2.451728,  42.989143, 357.432007],\n",
       "       [  2.330227,  42.921795, 357.432007]])"
      ]
     },
     "execution_count": 15,
     "metadata": {},
     "output_type": "execute_result"
    }
   ],
   "source": [
    "point_array_sampled"
   ]
  },
  {
   "cell_type": "code",
   "execution_count": null,
   "metadata": {},
   "outputs": [],
   "source": []
  },
  {
   "cell_type": "code",
   "execution_count": null,
   "metadata": {},
   "outputs": [],
   "source": []
  },
  {
   "cell_type": "code",
   "execution_count": null,
   "metadata": {},
   "outputs": [],
   "source": []
  }
 ],
 "metadata": {
  "kernelspec": {
   "display_name": "Python 3",
   "language": "python",
   "name": "python3"
  },
  "language_info": {
   "codemirror_mode": {
    "name": "ipython",
    "version": 3
   },
   "file_extension": ".py",
   "mimetype": "text/x-python",
   "name": "python",
   "nbconvert_exporter": "python",
   "pygments_lexer": "ipython3",
   "version": "3.7.0"
  }
 },
 "nbformat": 4,
 "nbformat_minor": 4
}
