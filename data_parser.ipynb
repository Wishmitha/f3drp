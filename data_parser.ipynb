{
 "cells": [
  {
   "cell_type": "code",
   "execution_count": 133,
   "metadata": {},
   "outputs": [],
   "source": [
    "import os\n",
    "from shutil import copy2\n",
    "import pandas as pd\n",
    "import numpy as np"
   ]
  },
  {
   "cell_type": "code",
   "execution_count": 95,
   "metadata": {},
   "outputs": [],
   "source": [
    "def copy_data(directory):\n",
    "    \n",
    "    out_base = \"Datasets/Foot Models\"\n",
    "    \n",
    "    for filename in sorted(os.listdir(directory)):\n",
    "        if filename.endswith(\".pts\"): \n",
    "            path=os.path.join(directory, filename)\n",
    "            \n",
    "            name = filename.split('.')[0]\n",
    "            orientation = name[-2:]\n",
    "            scan_id = name[-3:-2]\n",
    "            name_tag = name[:-3]\n",
    "            \n",
    "            \n",
    "            if(orientation=='ll'):\n",
    "                out_foot = out_base + \"/left\"\n",
    "            elif(orientation=='rr'):\n",
    "                out_foot = out_base + \"/right\"\n",
    "                \n",
    "            out_dir = out_foot + \"/\" + scan_id\n",
    "            if not os.path.exists(out_dir):\n",
    "                os.makedirs(out_dir)\n",
    "            copy2(path,out_dir)\n",
    "                    \n",
    "            print(\"Copying:\", path, \" to \", out_dir)\n",
    "            "
   ]
  },
  {
   "cell_type": "code",
   "execution_count": 149,
   "metadata": {},
   "outputs": [],
   "source": [
    "def read_landmarks(filename):\n",
    "    \n",
    "    database_path = \"Datasets/Foot Models/lan_scans.csv\"\n",
    "    \n",
    "    df = pd.read_csv(database_path)\n",
    "    \n",
    "    name = filename.split('.')[0]\n",
    "    orientation = name[-2:]\n",
    "    scan_id = name[-3:-2]\n",
    "    name_tag = name[:-3]\n",
    "    \n",
    "    if(orientation == 'll'):\n",
    "        orientation = 'L'\n",
    "    elif(orientation == 'rr'):\n",
    "        orientation = 'R'\n",
    "        \n",
    "    query_df = df.loc[(df['id'] == name_tag) & (df['leg']== orientation) & (df['scan_id'] == int(scan_id))] \n",
    "    query_df = query_df[['x', 'y', 'z']].to_numpy\n",
    "    return query_df.values"
   ]
  },
  {
   "cell_type": "code",
   "execution_count": null,
   "metadata": {},
   "outputs": [],
   "source": [
    "#copy_data(\"Datasets/Original Foot Data/all_models\")"
   ]
  },
  {
   "cell_type": "code",
   "execution_count": 151,
   "metadata": {},
   "outputs": [
    {
     "ename": "AttributeError",
     "evalue": "'function' object has no attribute 'values'",
     "output_type": "error",
     "traceback": [
      "\u001b[0;31m---------------------------------------------------------------------------\u001b[0m",
      "\u001b[0;31mAttributeError\u001b[0m                            Traceback (most recent call last)",
      "\u001b[0;32m<ipython-input-151-b544be9f3a6b>\u001b[0m in \u001b[0;36m<module>\u001b[0;34m\u001b[0m\n\u001b[0;32m----> 1\u001b[0;31m \u001b[0mread_landmarks\u001b[0m\u001b[0;34m(\u001b[0m\u001b[0;34m\"sub1001ll.pts\"\u001b[0m\u001b[0;34m)\u001b[0m\u001b[0;34m\u001b[0m\u001b[0m\n\u001b[0m",
      "\u001b[0;32m<ipython-input-149-921a71d28c56>\u001b[0m in \u001b[0;36mread_landmarks\u001b[0;34m(filename)\u001b[0m\n\u001b[1;32m     17\u001b[0m     \u001b[0mquery_df\u001b[0m \u001b[0;34m=\u001b[0m \u001b[0mdf\u001b[0m\u001b[0;34m.\u001b[0m\u001b[0mloc\u001b[0m\u001b[0;34m[\u001b[0m\u001b[0;34m(\u001b[0m\u001b[0mdf\u001b[0m\u001b[0;34m[\u001b[0m\u001b[0;34m'id'\u001b[0m\u001b[0;34m]\u001b[0m \u001b[0;34m==\u001b[0m \u001b[0mname_tag\u001b[0m\u001b[0;34m)\u001b[0m \u001b[0;34m&\u001b[0m \u001b[0;34m(\u001b[0m\u001b[0mdf\u001b[0m\u001b[0;34m[\u001b[0m\u001b[0;34m'leg'\u001b[0m\u001b[0;34m]\u001b[0m\u001b[0;34m==\u001b[0m \u001b[0morientation\u001b[0m\u001b[0;34m)\u001b[0m \u001b[0;34m&\u001b[0m \u001b[0;34m(\u001b[0m\u001b[0mdf\u001b[0m\u001b[0;34m[\u001b[0m\u001b[0;34m'scan_id'\u001b[0m\u001b[0;34m]\u001b[0m \u001b[0;34m==\u001b[0m \u001b[0mint\u001b[0m\u001b[0;34m(\u001b[0m\u001b[0mscan_id\u001b[0m\u001b[0;34m)\u001b[0m\u001b[0;34m)\u001b[0m\u001b[0;34m]\u001b[0m\u001b[0;34m\u001b[0m\u001b[0m\n\u001b[1;32m     18\u001b[0m     \u001b[0mquery_df\u001b[0m \u001b[0;34m=\u001b[0m \u001b[0mquery_df\u001b[0m\u001b[0;34m[\u001b[0m\u001b[0;34m[\u001b[0m\u001b[0;34m'x'\u001b[0m\u001b[0;34m,\u001b[0m \u001b[0;34m'y'\u001b[0m\u001b[0;34m,\u001b[0m \u001b[0;34m'z'\u001b[0m\u001b[0;34m]\u001b[0m\u001b[0;34m]\u001b[0m\u001b[0;34m.\u001b[0m\u001b[0mto_numpy\u001b[0m\u001b[0;34m\u001b[0m\u001b[0m\n\u001b[0;32m---> 19\u001b[0;31m     \u001b[0;32mreturn\u001b[0m \u001b[0mquery_df\u001b[0m\u001b[0;34m.\u001b[0m\u001b[0mvalues\u001b[0m\u001b[0;34m\u001b[0m\u001b[0m\n\u001b[0m",
      "\u001b[0;31mAttributeError\u001b[0m: 'function' object has no attribute 'values'"
     ]
    }
   ],
   "source": [
    "read_landmarks(\"sub1001ll.pts\")"
   ]
  },
  {
   "cell_type": "code",
   "execution_count": null,
   "metadata": {},
   "outputs": [],
   "source": []
  }
 ],
 "metadata": {
  "kernelspec": {
   "display_name": "Python 3",
   "language": "python",
   "name": "python3"
  },
  "language_info": {
   "codemirror_mode": {
    "name": "ipython",
    "version": 3
   },
   "file_extension": ".py",
   "mimetype": "text/x-python",
   "name": "python",
   "nbconvert_exporter": "python",
   "pygments_lexer": "ipython3",
   "version": "3.7.0"
  }
 },
 "nbformat": 4,
 "nbformat_minor": 4
}
