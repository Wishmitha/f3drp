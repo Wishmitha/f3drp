{
 "cells": [
  {
   "cell_type": "code",
   "execution_count": 309,
   "metadata": {},
   "outputs": [],
   "source": [
    "%matplotlib widget\n",
    "\n",
    "from mpl_toolkits.mplot3d import Axes3D\n",
    "import matplotlib.pyplot as plt\n",
    "import numpy as np"
   ]
  },
  {
   "cell_type": "code",
   "execution_count": 310,
   "metadata": {},
   "outputs": [],
   "source": [
    "def process_data(file):\n",
    "    coord = []\n",
    "    for point in file.readlines():\n",
    "        coord.append(list(map(float,point.split())))\n",
    "        \n",
    "    return np.array(coord)"
   ]
  },
  {
   "cell_type": "code",
   "execution_count": 311,
   "metadata": {},
   "outputs": [],
   "source": [
    "points = open(\"Datasets/Original Foot Data/Processed/sb1255ll.pts\")\n",
    "landmarks = open(\"Datasets/Original Foot Data/Processed/sb1255ll.lan\")"
   ]
  },
  {
   "cell_type": "code",
   "execution_count": 312,
   "metadata": {},
   "outputs": [],
   "source": [
    "point_array = process_data(points)\n",
    "landmark_array = process_data(landmarks)"
   ]
  },
  {
   "cell_type": "code",
   "execution_count": 313,
   "metadata": {},
   "outputs": [],
   "source": [
    "point_array_sampled = []\n",
    "\n",
    "for i in range(0,len(point_array),20):\n",
    "    point_array_sampled.append(point_array[i])\n",
    "\n",
    "point_array_sampled = np.array(point_array_sampled)"
   ]
  },
  {
   "cell_type": "code",
   "execution_count": 314,
   "metadata": {},
   "outputs": [
    {
     "name": "stdout",
     "output_type": "stream",
     "text": [
      "No of Landmarks: 15\n",
      "No of Points: 88200\n",
      "No of Sampled Points: 4410\n"
     ]
    }
   ],
   "source": [
    "print(\"No of Landmarks:\", len(landmark_array))\n",
    "print(\"No of Points:\", len(point_array))\n",
    "print(\"No of Sampled Points:\", len(point_array_sampled))"
   ]
  },
  {
   "cell_type": "code",
   "execution_count": 315,
   "metadata": {},
   "outputs": [
    {
     "data": {
      "application/vnd.jupyter.widget-view+json": {
       "model_id": "dba836ac2d5c477199c883671c6e0f55",
       "version_major": 2,
       "version_minor": 0
      },
      "text/plain": [
       "Canvas(toolbar=Toolbar(toolitems=[('Home', 'Reset original view', 'home', 'home'), ('Back', 'Back to previous …"
      ]
     },
     "metadata": {},
     "output_type": "display_data"
    }
   ],
   "source": [
    "fig = plt.figure()\n",
    "ax = fig.add_subplot(111, projection='3d')\n",
    "\n",
    "# Create cubic bounding box to simulate equal aspect ratio\n",
    "X = point_array_sampled[:,0]\n",
    "Y = point_array_sampled[:,1]\n",
    "Z = point_array_sampled[:,2]\n",
    "\n",
    "#ax.scatter(point_array[:,0], point_array[:,1], point_array[:,2], s=0.005)\n",
    "ax.scatter(point_array_sampled[:,0], point_array_sampled[:,1], point_array_sampled[:,2], s=1)\n",
    "ax.scatter(landmark_array[:,0], landmark_array[:,1], landmark_array[:,2], s=50, c='r', marker='^')\n",
    "\n",
    "#bounding box to show foot in scale\n",
    "max_range = np.array([X.max()-X.min(), Y.max()-Y.min(), Z.max()-Z.min()]).max()\n",
    "Xb = 0.5*max_range*np.mgrid[-1:2:2,-1:2:2,-1:2:2][0].flatten() + 0.5*(X.max()+X.min())\n",
    "Yb = 0.5*max_range*np.mgrid[-1:2:2,-1:2:2,-1:2:2][1].flatten() + 0.5*(Y.max()+Y.min())\n",
    "Zb = 0.5*max_range*np.mgrid[-1:2:2,-1:2:2,-1:2:2][2].flatten() + 0.5*(Z.max()+Z.min())\n",
    "\n",
    "for xb, yb, zb in zip(Xb, Yb, Zb):\n",
    "    ax.plot([xb], [yb], [zb], 'w')\n",
    "\n",
    "plt.grid()\n",
    "plt.show()"
   ]
  },
  {
   "cell_type": "code",
   "execution_count": 347,
   "metadata": {},
   "outputs": [],
   "source": [
    "from pygem import RBF\n",
    "import numpy as np"
   ]
  },
  {
   "cell_type": "code",
   "execution_count": 352,
   "metadata": {},
   "outputs": [],
   "source": [
    "ocp = landmark_array\n",
    "dcp = np.append(landmark_array[:-1],[landmark_array[-1]*5],axis=0)\n",
    "#dcp = landmark_array*np.random.rand(landmark_array.shape[0],landmark_array.shape[1])\n",
    "#dcp = landmark_array*5"
   ]
  },
  {
   "cell_type": "code",
   "execution_count": 353,
   "metadata": {},
   "outputs": [],
   "source": [
    "rbf = RBF(original_control_points=ocp, deformed_control_points = dcp)"
   ]
  },
  {
   "cell_type": "code",
   "execution_count": 354,
   "metadata": {},
   "outputs": [],
   "source": [
    "deformed_points=rbf(point_array_sampled)"
   ]
  },
  {
   "cell_type": "code",
   "execution_count": 356,
   "metadata": {},
   "outputs": [
    {
     "data": {
      "application/vnd.jupyter.widget-view+json": {
       "model_id": "f0621b6f216c4ca6a62794c00bfcef16",
       "version_major": 2,
       "version_minor": 0
      },
      "text/plain": [
       "Canvas(toolbar=Toolbar(toolitems=[('Home', 'Reset original view', 'home', 'home'), ('Back', 'Back to previous …"
      ]
     },
     "metadata": {},
     "output_type": "display_data"
    }
   ],
   "source": [
    "fig2 = plt.figure()\n",
    "ax = fig2.add_subplot(111, projection='3d')\n",
    "\n",
    "# Create cubic bounding box to simulate equal aspect ratio\n",
    "X = deformed_points[:,0]\n",
    "Y = deformed_points[:,1]\n",
    "Z = deformed_points[:,2]\n",
    "\n",
    "#ax.scatter(point_array[:,0], point_array[:,1], point_array[:,2], s=0.005)\n",
    "ax.scatter(deformed_points[:,0], deformed_points[:,1], deformed_points[:,2], s=1)\n",
    "ax.scatter(dcp[:,0], dcp[:,1], dcp[:,2], s=50, c='r', marker='^')\n",
    "\n",
    "#bounding box to show foot in scale\n",
    "max_range = np.array([X.max()-X.min(), Y.max()-Y.min(), Z.max()-Z.min()]).max()\n",
    "Xb = 0.5*max_range*np.mgrid[-1:2:2,-1:2:2,-1:2:2][0].flatten() + 0.5*(X.max()+X.min())\n",
    "Yb = 0.5*max_range*np.mgrid[-1:2:2,-1:2:2,-1:2:2][1].flatten() + 0.5*(Y.max()+Y.min())\n",
    "Zb = 0.5*max_range*np.mgrid[-1:2:2,-1:2:2,-1:2:2][2].flatten() + 0.5*(Z.max()+Z.min())\n",
    "\n",
    "for xb, yb, zb in zip(Xb, Yb, Zb):\n",
    "    ax.plot([xb], [yb], [zb], 'w')\n",
    "\n",
    "plt.grid()\n",
    "plt.show()"
   ]
  },
  {
   "cell_type": "code",
   "execution_count": 187,
   "metadata": {},
   "outputs": [
    {
     "data": {
      "text/plain": [
       "array([[-48.013962,  89.400124, 229.887986],\n",
       "       [-48.286694,  89.45314 , 229.887986],\n",
       "       [-48.524848,  89.596238, 229.887986],\n",
       "       ...,\n",
       "       [  5.085734,  86.187974, 714.864014],\n",
       "       [  4.903456,  85.978286, 714.864014],\n",
       "       [  4.660454,  85.84359 , 714.864014]])"
      ]
     },
     "execution_count": 187,
     "metadata": {},
     "output_type": "execute_result"
    }
   ],
   "source": [
    "deformed_points"
   ]
  },
  {
   "cell_type": "code",
   "execution_count": 188,
   "metadata": {},
   "outputs": [
    {
     "data": {
      "text/plain": [
       "array([[-24.006981,  44.700062, 114.943993],\n",
       "       [-24.143347,  44.72657 , 114.943993],\n",
       "       [-24.262424,  44.798119, 114.943993],\n",
       "       ...,\n",
       "       [  2.542867,  43.093987, 357.432007],\n",
       "       [  2.451728,  42.989143, 357.432007],\n",
       "       [  2.330227,  42.921795, 357.432007]])"
      ]
     },
     "execution_count": 188,
     "metadata": {},
     "output_type": "execute_result"
    }
   ],
   "source": [
    "point_array_sampled"
   ]
  },
  {
   "cell_type": "code",
   "execution_count": 194,
   "metadata": {},
   "outputs": [
    {
     "data": {
      "text/plain": [
       "array([[  0.804577,  58.336212, 301.11499 ],\n",
       "       [ 20.205975,  16.198809, 236.18602 ],\n",
       "       [-26.364223,  -0.532858, 235.664993],\n",
       "       [  6.781673,   2.928734, 229.772995],\n",
       "       [ -1.44464 ,  16.301979, 199.043991],\n",
       "       [ 21.175303,  32.179852, 193.703003],\n",
       "       [ 10.121836,  31.690945, 185.267014],\n",
       "       [-22.823044,  18.288479, 185.145996],\n",
       "       [-43.36063 ,  30.692184, 183.182999],\n",
       "       [ -1.777726,  28.335777, 179.656998],\n",
       "       [ 35.051422,  45.042385, 161.934998],\n",
       "       [-15.356483,  59.361294, 156.59201 ],\n",
       "       [ 20.67816 ,  44.908089, 147.405014],\n",
       "       [  8.63488 ,  44.281567, 135.884003]])"
      ]
     },
     "execution_count": 194,
     "metadata": {},
     "output_type": "execute_result"
    }
   ],
   "source": [
    "landmark_array[:-1]"
   ]
  },
  {
   "cell_type": "code",
   "execution_count": 195,
   "metadata": {},
   "outputs": [
    {
     "data": {
      "text/plain": [
       "(14, 3)"
      ]
     },
     "execution_count": 195,
     "metadata": {},
     "output_type": "execute_result"
    }
   ],
   "source": [
    "landmark_array[:-1].shape"
   ]
  },
  {
   "cell_type": "code",
   "execution_count": 196,
   "metadata": {},
   "outputs": [
    {
     "data": {
      "text/plain": [
       "array([ -36.28709,  580.73666, 1321.08994])"
      ]
     },
     "execution_count": 196,
     "metadata": {},
     "output_type": "execute_result"
    }
   ],
   "source": [
    "landmark_array[-1]*10"
   ]
  },
  {
   "cell_type": "code",
   "execution_count": 238,
   "metadata": {},
   "outputs": [
    {
     "data": {
      "text/plain": [
       "array([2, 8])"
      ]
     },
     "execution_count": 238,
     "metadata": {},
     "output_type": "execute_result"
    }
   ],
   "source": [
    "np.array([1,2])*np.array([2,4])"
   ]
  },
  {
   "cell_type": "code",
   "execution_count": null,
   "metadata": {},
   "outputs": [],
   "source": []
  }
 ],
 "metadata": {
  "kernelspec": {
   "display_name": "Python 3",
   "language": "python",
   "name": "python3"
  },
  "language_info": {
   "codemirror_mode": {
    "name": "ipython",
    "version": 3
   },
   "file_extension": ".py",
   "mimetype": "text/x-python",
   "name": "python",
   "nbconvert_exporter": "python",
   "pygments_lexer": "ipython3",
   "version": "3.7.0"
  }
 },
 "nbformat": 4,
 "nbformat_minor": 4
}
