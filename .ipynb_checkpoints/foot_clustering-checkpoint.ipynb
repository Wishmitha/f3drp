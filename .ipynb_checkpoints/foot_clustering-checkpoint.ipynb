{
 "cells": [
  {
   "cell_type": "code",
   "execution_count": 1,
   "metadata": {},
   "outputs": [],
   "source": [
    "%matplotlib widget\n",
    "\n",
    "from mpl_toolkits.mplot3d import Axes3D\n",
    "import matplotlib.pyplot as plt\n",
    "import numpy as np\n",
    "import os"
   ]
  },
  {
   "cell_type": "code",
   "execution_count": 9,
   "metadata": {},
   "outputs": [],
   "source": [
    "def process_data(file):\n",
    "    coord = []\n",
    "    for point in file.readlines():\n",
    "        coord.append(list(map(float,point.split())))\n",
    "        \n",
    "    return np.array(coord)"
   ]
  },
  {
   "cell_type": "code",
   "execution_count": 39,
   "metadata": {},
   "outputs": [],
   "source": [
    "def read_directory(directory):\n",
    "    point_array_all = []\n",
    "    land_mark_array_all=[]\n",
    "\n",
    "    for filename in sorted(os.listdir(directory)):\n",
    "\n",
    "        if filename.endswith(\".pts\"): \n",
    "            path=os.path.join(directory, filename)\n",
    "            #print(\"Processing:\",path)\n",
    "            points = open(path)\n",
    "            point_array = process_data(points)\n",
    "\n",
    "            point_array_sampled = []\n",
    "\n",
    "            for i in range(0,len(point_array),20):\n",
    "                point_array_sampled.append(point_array[i])\n",
    "\n",
    "            point_array_sampled = np.array(point_array_sampled)\n",
    "\n",
    "            point_array_all.append(point_array_sampled)\n",
    "\n",
    "            continue\n",
    "        elif filename.endswith(\".lan\"):\n",
    "            path = os.path.join(directory, filename)\n",
    "            #print(\"Processing:\",path)\n",
    "            landmarks = open(path)\n",
    "            landmark_array = process_data(landmarks)\n",
    "\n",
    "            land_mark_array_all.append(landmark_array)\n",
    "\n",
    "            continue\n",
    "            \n",
    "    return point_array_all,land_mark_array_all"
   ]
  },
  {
   "cell_type": "code",
   "execution_count": 108,
   "metadata": {},
   "outputs": [],
   "source": [
    "def calculate_transformation_matrix(original, aligned):\n",
    "    transform_matrices=[]\n",
    "    for i in range(0, len(original)):\n",
    "        transform_matrix = np.zeros(shape=(3,4))\n",
    "        \n",
    "        transform_matrix[0][-1] = aligned[i][0][0] - original[i][0][0]\n",
    "        transform_matrix[0][0] = 1\n",
    "        \n",
    "        transform_matrix[1][-1] = aligned[i][0][1] - original[i][0][1]\n",
    "        transform_matrix[1][1] = 1\n",
    "        \n",
    "        transform_matrix[2][-1] = aligned[i][0][2] - original[i][0][2]\n",
    "        transform_matrix[2][2] = 1\n",
    "        \n",
    "        transform_matrices.append(transform_matrix)\n",
    "    \n",
    "    return transform_matrices"
   ]
  },
  {
   "cell_type": "code",
   "execution_count": 139,
   "metadata": {},
   "outputs": [],
   "source": [
    "def calculate_aligned_landmarks(landmarks, transform_matrices):\n",
    "    \n",
    "    updated_landmarks_all = []\n",
    "    \n",
    "    for i in range(0, len(landmarks)):\n",
    "        \n",
    "        updated_landmarks=[]\n",
    "        \n",
    "        if(len(landmarks[i])!=0):\n",
    "            landmarks_1 = np.c_[landmarks[i],np.ones(len(landmarks[i]))]\n",
    "                \n",
    "            for j in range(0, len(landmarks[i])):\n",
    "                \n",
    "                updated_landmark=[]\n",
    "                \n",
    "                for row in transform_matrices[i]:\n",
    "                    updated_landmark.append(np.dot(landmarks_1[j],row))\n",
    "           \n",
    "                \n",
    "                updated_landmarks.append(updated_landmark)\n",
    "            updated_landmarks_all.append(updated_landmarks)\n",
    "        \n",
    "    return np.array(updated_landmarks_all, dtype=object)"
   ]
  },
  {
   "cell_type": "code",
   "execution_count": 140,
   "metadata": {},
   "outputs": [],
   "source": [
    "directory_aligned = \"Datasets/Original Foot Data/Bounding Box Aligned/\"\n",
    "directory_processed = \"Datasets/Original Foot Data/Processed/\""
   ]
  },
  {
   "cell_type": "code",
   "execution_count": 141,
   "metadata": {},
   "outputs": [],
   "source": [
    "aligned_points_all = read_directory(directory_aligned)[0]\n",
    "original_points_all, original_landmarks_all = read_directory(directory_processed)"
   ]
  },
  {
   "cell_type": "code",
   "execution_count": 142,
   "metadata": {},
   "outputs": [],
   "source": [
    "trans_mats = calculate_transformation_matrix(original_points_all, aligned_points_all)"
   ]
  },
  {
   "cell_type": "code",
   "execution_count": 143,
   "metadata": {},
   "outputs": [],
   "source": [
    "aligned_landmarks_all = calculate_aligned_landmarks(original_landmarks_all,trans_mats)"
   ]
  }
 ],
 "metadata": {
  "kernelspec": {
   "display_name": "Python 3",
   "language": "python",
   "name": "python3"
  },
  "language_info": {
   "codemirror_mode": {
    "name": "ipython",
    "version": 3
   },
   "file_extension": ".py",
   "mimetype": "text/x-python",
   "name": "python",
   "nbconvert_exporter": "python",
   "pygments_lexer": "ipython3",
   "version": "3.7.0"
  }
 },
 "nbformat": 4,
 "nbformat_minor": 4
}
