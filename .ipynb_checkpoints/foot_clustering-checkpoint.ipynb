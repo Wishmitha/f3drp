{
 "cells": [
  {
   "cell_type": "code",
   "execution_count": 20,
   "metadata": {},
   "outputs": [],
   "source": [
    "%matplotlib widget\n",
    "\n",
    "from mpl_toolkits.mplot3d import Axes3D\n",
    "import matplotlib.pyplot as plt\n",
    "import numpy as np\n",
    "import os"
   ]
  },
  {
   "cell_type": "code",
   "execution_count": 23,
   "metadata": {},
   "outputs": [],
   "source": [
    "def process_data(file):\n",
    "    coord = []\n",
    "    for point in file.readlines():\n",
    "        coord.append(list(map(float,point.split())))\n",
    "        \n",
    "    return np.array(coord)"
   ]
  },
  {
   "cell_type": "code",
   "execution_count": 36,
   "metadata": {},
   "outputs": [],
   "source": [
    "directory = \"Datasets/Original Foot Data/Processed/\""
   ]
  },
  {
   "cell_type": "code",
   "execution_count": 46,
   "metadata": {},
   "outputs": [],
   "source": [
    "point_array_all = []\n",
    "land_mark_array_all=[]\n",
    "    \n",
    "for filename in sorted(os.listdir(directory)):\n",
    "    \n",
    "    if filename.endswith(\".pts\"): \n",
    "        path=os.path.join(directory, filename)\n",
    "        points = open(path)\n",
    "        point_array = process_data(points)\n",
    "        \n",
    "        point_array_sampled = []\n",
    "\n",
    "        for i in range(0,len(point_array),20):\n",
    "            point_array_sampled.append(point_array[i])\n",
    "\n",
    "        point_array_sampled = np.array(point_array_sampled)\n",
    "        \n",
    "        point_array_all.append(point_array_sampled)\n",
    "        \n",
    "        continue\n",
    "    elif filename.endswith(\".lan\"):\n",
    "        path = os.path.join(directory, filename)\n",
    "        landmarks = open(path)\n",
    "        landmark_array = process_data(landmarks)\n",
    "        \n",
    "        land_mark_array_all.append(landmark_array)\n",
    "        \n",
    "        continue"
   ]
  },
  {
   "cell_type": "code",
   "execution_count": null,
   "metadata": {},
   "outputs": [],
   "source": []
  }
 ],
 "metadata": {
  "kernelspec": {
   "display_name": "Python 3",
   "language": "python",
   "name": "python3"
  },
  "language_info": {
   "codemirror_mode": {
    "name": "ipython",
    "version": 3
   },
   "file_extension": ".py",
   "mimetype": "text/x-python",
   "name": "python",
   "nbconvert_exporter": "python",
   "pygments_lexer": "ipython3",
   "version": "3.7.0"
  }
 },
 "nbformat": 4,
 "nbformat_minor": 4
}
