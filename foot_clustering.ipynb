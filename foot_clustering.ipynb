{
 "cells": [
  {
   "cell_type": "code",
   "execution_count": 1,
   "metadata": {},
   "outputs": [],
   "source": [
    "%matplotlib widget\n",
    "\n",
    "from mpl_toolkits.mplot3d import Axes3D\n",
    "import matplotlib.pyplot as plt\n",
    "import numpy as np\n",
    "import os"
   ]
  },
  {
   "cell_type": "code",
   "execution_count": 9,
   "metadata": {},
   "outputs": [],
   "source": [
    "def process_data(file):\n",
    "    coord = []\n",
    "    for point in file.readlines():\n",
    "        coord.append(list(map(float,point.split())))\n",
    "        \n",
    "    return np.array(coord)"
   ]
  },
  {
   "cell_type": "code",
   "execution_count": 160,
   "metadata": {},
   "outputs": [],
   "source": [
    "def read_directory(directory, sample_rate):\n",
    "    point_array_all = []\n",
    "    land_mark_array_all=[]\n",
    "\n",
    "    for filename in sorted(os.listdir(directory)):\n",
    "\n",
    "        if filename.endswith(\".pts\"): \n",
    "            path=os.path.join(directory, filename)\n",
    "            #print(\"Processing:\",path)\n",
    "            points = open(path)\n",
    "            point_array = process_data(points)\n",
    "\n",
    "            point_array_sampled = []\n",
    "            \n",
    "            #sampling\n",
    "            for i in range(0,len(point_array),sample_rate):\n",
    "                point_array_sampled.append(point_array[i])\n",
    "\n",
    "            point_array_sampled = np.array(point_array_sampled)\n",
    "\n",
    "            point_array_all.append(point_array_sampled)\n",
    "\n",
    "            continue\n",
    "        elif filename.endswith(\".lan\"):\n",
    "            path = os.path.join(directory, filename)\n",
    "            #print(\"Processing:\",path)\n",
    "            landmarks = open(path)\n",
    "            landmark_array = process_data(landmarks)\n",
    "\n",
    "            land_mark_array_all.append(landmark_array)\n",
    "\n",
    "            continue\n",
    "            \n",
    "    return point_array_all,land_mark_array_all"
   ]
  },
  {
   "cell_type": "code",
   "execution_count": 108,
   "metadata": {},
   "outputs": [],
   "source": [
    "def calculate_transformation_matrix(original, aligned):\n",
    "    transform_matrices=[]\n",
    "    for i in range(0, len(original)):\n",
    "        transform_matrix = np.zeros(shape=(3,4))\n",
    "        \n",
    "        transform_matrix[0][-1] = aligned[i][0][0] - original[i][0][0]\n",
    "        transform_matrix[0][0] = 1\n",
    "        \n",
    "        transform_matrix[1][-1] = aligned[i][0][1] - original[i][0][1]\n",
    "        transform_matrix[1][1] = 1\n",
    "        \n",
    "        transform_matrix[2][-1] = aligned[i][0][2] - original[i][0][2]\n",
    "        transform_matrix[2][2] = 1\n",
    "        \n",
    "        transform_matrices.append(transform_matrix)\n",
    "    \n",
    "    return transform_matrices"
   ]
  },
  {
   "cell_type": "code",
   "execution_count": 139,
   "metadata": {},
   "outputs": [],
   "source": [
    "def calculate_aligned_landmarks(landmarks, transform_matrices):\n",
    "    updated_landmarks_all = []\n",
    "    \n",
    "    for i in range(0, len(landmarks)):\n",
    "        updated_landmarks=[]\n",
    "        \n",
    "        if(len(landmarks[i])!=0):\n",
    "            landmarks_1 = np.c_[landmarks[i],np.ones(len(landmarks[i]))]\n",
    "                \n",
    "            for j in range(0, len(landmarks[i])):\n",
    "                updated_landmark=[]\n",
    "                \n",
    "                for row in transform_matrices[i]:\n",
    "                    updated_landmark.append(np.dot(landmarks_1[j],row))\n",
    "           \n",
    "                \n",
    "                updated_landmarks.append(updated_landmark)\n",
    "            updated_landmarks_all.append(updated_landmarks)\n",
    "        \n",
    "    return np.array(updated_landmarks_all, dtype=object)"
   ]
  },
  {
   "cell_type": "code",
   "execution_count": 351,
   "metadata": {},
   "outputs": [],
   "source": [
    "def length_width_calculator(foot_data):\n",
    "    \n",
    "    threshold = 0.5\n",
    "    \n",
    "    lengths = []\n",
    "    widths = []\n",
    "    \n",
    "    for foot in foot_data:\n",
    "        point_x = foot[:,0]\n",
    "        point_z = foot[:,2]\n",
    "\n",
    "        length = 0\n",
    "        for point in range(int(min(point_x)),int(max(point_x))):\n",
    "            indices_filtered = np.where((point_x>=point-threshold)&(point_x<=point+threshold))\n",
    "            point_z_filtered = point_z[indices_filtered]\n",
    "            \n",
    "            if(len(point_z_filtered)>0):\n",
    "                length_point = max(point_z_filtered) - min(point_z_filtered)\n",
    "            if length_point>length:\n",
    "                length = length_point\n",
    "                \n",
    "        lengths.append(length)\n",
    "                \n",
    "        width = 0\n",
    "        for point in range(int(min(point_z)),int(max(point_z))):\n",
    "            indices_filtered = np.where((point_z>=point-threshold)&(point_z<=point+threshold))\n",
    "            point_x_filtered = point_x[indices_filtered]\n",
    "            \n",
    "            if(len(point_x_filtered)>0):\n",
    "                width_point = max(point_x_filtered) - min(point_x_filtered)\n",
    "            if width_point>width:\n",
    "                width = width_point\n",
    "        \n",
    "        widths.append(width)\n",
    "    \n",
    "    return lengths,widths"
   ]
  },
  {
   "cell_type": "code",
   "execution_count": 352,
   "metadata": {},
   "outputs": [],
   "source": [
    "directory_aligned = \"Datasets/Original Foot Data/Bounding Box Aligned/\"\n",
    "directory_processed = \"Datasets/Original Foot Data/Processed/\""
   ]
  },
  {
   "cell_type": "code",
   "execution_count": 353,
   "metadata": {},
   "outputs": [],
   "source": [
    "sample_rate = 1 #read by skipping given number of lines"
   ]
  },
  {
   "cell_type": "code",
   "execution_count": 354,
   "metadata": {},
   "outputs": [],
   "source": [
    "aligned_points_all = read_directory(directory_aligned, sample_rate)[0]\n",
    "original_points_all, original_landmarks_all = read_directory(directory_processed, sample_rate)"
   ]
  },
  {
   "cell_type": "code",
   "execution_count": 355,
   "metadata": {},
   "outputs": [],
   "source": [
    "trans_mats = calculate_transformation_matrix(original_points_all, aligned_points_all)"
   ]
  },
  {
   "cell_type": "code",
   "execution_count": 356,
   "metadata": {},
   "outputs": [],
   "source": [
    "aligned_landmarks_all = calculate_aligned_landmarks(original_landmarks_all,trans_mats)"
   ]
  },
  {
   "cell_type": "code",
   "execution_count": 357,
   "metadata": {},
   "outputs": [],
   "source": [
    "point_x = aligned_points_all[0][:,0]\n",
    "point_z = aligned_points_all[0][:,2]"
   ]
  },
  {
   "cell_type": "code",
   "execution_count": 358,
   "metadata": {},
   "outputs": [],
   "source": [
    "threshold = 0.5\n",
    "point = (max(point_x) + min(point_x))/2"
   ]
  },
  {
   "cell_type": "code",
   "execution_count": 359,
   "metadata": {},
   "outputs": [],
   "source": [
    "#np.where(np.logical_and(a>=6, a<=10))"
   ]
  },
  {
   "cell_type": "code",
   "execution_count": 360,
   "metadata": {},
   "outputs": [],
   "source": [
    "lengths,widths = length_width_calculator(aligned_points_all)"
   ]
  },
  {
   "cell_type": "code",
   "execution_count": 386,
   "metadata": {},
   "outputs": [
    {
     "data": {
      "application/vnd.jupyter.widget-view+json": {
       "model_id": "2fa2c869333440c99fed2a40d97836ed",
       "version_major": 2,
       "version_minor": 0
      },
      "text/plain": [
       "Canvas(toolbar=Toolbar(toolitems=[('Home', 'Reset original view', 'home', 'home'), ('Back', 'Back to previous …"
      ]
     },
     "metadata": {},
     "output_type": "display_data"
    },
    {
     "data": {
      "text/plain": [
       "<matplotlib.collections.PathCollection at 0x7f8541f849e8>"
      ]
     },
     "execution_count": 386,
     "metadata": {},
     "output_type": "execute_result"
    }
   ],
   "source": [
    "fig2 = plt.figure()\n",
    "ax = fig2.add_subplot()\n",
    "ax.scatter(range(len(lengths)),lengths)"
   ]
  },
  {
   "cell_type": "code",
   "execution_count": 388,
   "metadata": {},
   "outputs": [
    {
     "data": {
      "application/vnd.jupyter.widget-view+json": {
       "model_id": "cc45d8b0d00540358e23e3bc61d278a5",
       "version_major": 2,
       "version_minor": 0
      },
      "text/plain": [
       "Canvas(toolbar=Toolbar(toolitems=[('Home', 'Reset original view', 'home', 'home'), ('Back', 'Back to previous …"
      ]
     },
     "metadata": {},
     "output_type": "display_data"
    },
    {
     "data": {
      "text/plain": [
       "<matplotlib.collections.PathCollection at 0x7f85409a8b00>"
      ]
     },
     "execution_count": 388,
     "metadata": {},
     "output_type": "execute_result"
    }
   ],
   "source": [
    "fig2 = plt.figure()\n",
    "ax = fig2.add_subplot()\n",
    "ax.scatter(range(len(lengths)),widths)"
   ]
  },
  {
   "cell_type": "code",
   "execution_count": 389,
   "metadata": {},
   "outputs": [
    {
     "data": {
      "application/vnd.jupyter.widget-view+json": {
       "model_id": "cd88c66104ba46ca9650cd59e6c816cc",
       "version_major": 2,
       "version_minor": 0
      },
      "text/plain": [
       "Canvas(toolbar=Toolbar(toolitems=[('Home', 'Reset original view', 'home', 'home'), ('Back', 'Back to previous …"
      ]
     },
     "metadata": {},
     "output_type": "display_data"
    },
    {
     "data": {
      "text/plain": [
       "<mpl_toolkits.mplot3d.art3d.Path3DCollection at 0x7f854082eb70>"
      ]
     },
     "execution_count": 389,
     "metadata": {},
     "output_type": "execute_result"
    }
   ],
   "source": [
    "fig = plt.figure()\n",
    "ax = fig.add_subplot(111, projection='3d')\n",
    "ax.scatter(range(len(lengths)),lengths,widths)"
   ]
  },
  {
   "cell_type": "code",
   "execution_count": null,
   "metadata": {},
   "outputs": [],
   "source": []
  }
 ],
 "metadata": {
  "kernelspec": {
   "display_name": "Python 3",
   "language": "python",
   "name": "python3"
  },
  "language_info": {
   "codemirror_mode": {
    "name": "ipython",
    "version": 3
   },
   "file_extension": ".py",
   "mimetype": "text/x-python",
   "name": "python",
   "nbconvert_exporter": "python",
   "pygments_lexer": "ipython3",
   "version": "3.7.0"
  }
 },
 "nbformat": 4,
 "nbformat_minor": 4
}
