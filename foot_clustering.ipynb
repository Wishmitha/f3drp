{
 "cells": [
  {
   "cell_type": "code",
   "execution_count": 1,
   "metadata": {},
   "outputs": [],
   "source": [
    "%matplotlib widget\n",
    "\n",
    "from mpl_toolkits.mplot3d import Axes3D\n",
    "import matplotlib.pyplot as plt\n",
    "import numpy as np\n",
    "import os"
   ]
  },
  {
   "cell_type": "code",
   "execution_count": 9,
   "metadata": {},
   "outputs": [],
   "source": [
    "def process_data(file):\n",
    "    coord = []\n",
    "    for point in file.readlines():\n",
    "        coord.append(list(map(float,point.split())))\n",
    "        \n",
    "    return np.array(coord)"
   ]
  },
  {
   "cell_type": "code",
   "execution_count": 160,
   "metadata": {},
   "outputs": [],
   "source": [
    "def read_directory(directory, sample_rate):\n",
    "    point_array_all = []\n",
    "    land_mark_array_all=[]\n",
    "\n",
    "    for filename in sorted(os.listdir(directory)):\n",
    "\n",
    "        if filename.endswith(\".pts\"): \n",
    "            path=os.path.join(directory, filename)\n",
    "            #print(\"Processing:\",path)\n",
    "            points = open(path)\n",
    "            point_array = process_data(points)\n",
    "\n",
    "            point_array_sampled = []\n",
    "            \n",
    "            #sampling\n",
    "            for i in range(0,len(point_array),sample_rate):\n",
    "                point_array_sampled.append(point_array[i])\n",
    "\n",
    "            point_array_sampled = np.array(point_array_sampled)\n",
    "\n",
    "            point_array_all.append(point_array_sampled)\n",
    "\n",
    "            continue\n",
    "        elif filename.endswith(\".lan\"):\n",
    "            path = os.path.join(directory, filename)\n",
    "            #print(\"Processing:\",path)\n",
    "            landmarks = open(path)\n",
    "            landmark_array = process_data(landmarks)\n",
    "\n",
    "            land_mark_array_all.append(landmark_array)\n",
    "\n",
    "            continue\n",
    "            \n",
    "    return point_array_all,land_mark_array_all"
   ]
  },
  {
   "cell_type": "code",
   "execution_count": 108,
   "metadata": {},
   "outputs": [],
   "source": [
    "def calculate_transformation_matrix(original, aligned):\n",
    "    transform_matrices=[]\n",
    "    for i in range(0, len(original)):\n",
    "        transform_matrix = np.zeros(shape=(3,4))\n",
    "        \n",
    "        transform_matrix[0][-1] = aligned[i][0][0] - original[i][0][0]\n",
    "        transform_matrix[0][0] = 1\n",
    "        \n",
    "        transform_matrix[1][-1] = aligned[i][0][1] - original[i][0][1]\n",
    "        transform_matrix[1][1] = 1\n",
    "        \n",
    "        transform_matrix[2][-1] = aligned[i][0][2] - original[i][0][2]\n",
    "        transform_matrix[2][2] = 1\n",
    "        \n",
    "        transform_matrices.append(transform_matrix)\n",
    "    \n",
    "    return transform_matrices"
   ]
  },
  {
   "cell_type": "code",
   "execution_count": 139,
   "metadata": {},
   "outputs": [],
   "source": [
    "def calculate_aligned_landmarks(landmarks, transform_matrices):\n",
    "    updated_landmarks_all = []\n",
    "    \n",
    "    for i in range(0, len(landmarks)):\n",
    "        updated_landmarks=[]\n",
    "        \n",
    "        if(len(landmarks[i])!=0):\n",
    "            landmarks_1 = np.c_[landmarks[i],np.ones(len(landmarks[i]))]\n",
    "                \n",
    "            for j in range(0, len(landmarks[i])):\n",
    "                \n",
    "                updated_landmark=[]\n",
    "                \n",
    "                for row in transform_matrices[i]:\n",
    "                    updated_landmark.append(np.dot(landmarks_1[j],row))\n",
    "           \n",
    "                \n",
    "                updated_landmarks.append(updated_landmark)\n",
    "            updated_landmarks_all.append(updated_landmarks)\n",
    "        \n",
    "    return np.array(updated_landmarks_all, dtype=object)"
   ]
  },
  {
   "cell_type": "code",
   "execution_count": 161,
   "metadata": {},
   "outputs": [],
   "source": [
    "directory_aligned = \"Datasets/Original Foot Data/Bounding Box Aligned/\"\n",
    "directory_processed = \"Datasets/Original Foot Data/Processed/\""
   ]
  },
  {
   "cell_type": "code",
   "execution_count": 214,
   "metadata": {},
   "outputs": [],
   "source": [
    "sample_rate = 1 #read by skipping given number of lines"
   ]
  },
  {
   "cell_type": "code",
   "execution_count": 220,
   "metadata": {},
   "outputs": [],
   "source": [
    "aligned_points_all = read_directory(directory_aligned, sample_rate)[0]\n",
    "original_points_all, original_landmarks_all = read_directory(directory_processed, sample_rate)"
   ]
  },
  {
   "cell_type": "code",
   "execution_count": 221,
   "metadata": {},
   "outputs": [],
   "source": [
    "trans_mats = calculate_transformation_matrix(original_points_all, aligned_points_all)"
   ]
  },
  {
   "cell_type": "code",
   "execution_count": 222,
   "metadata": {},
   "outputs": [],
   "source": [
    "aligned_landmarks_all = calculate_aligned_landmarks(original_landmarks_all,trans_mats)"
   ]
  },
  {
   "cell_type": "code",
   "execution_count": 301,
   "metadata": {},
   "outputs": [],
   "source": [
    "point_x = aligned_points_all[0][:,0]\n",
    "point_z = aligned_points_all[0][:,2]"
   ]
  },
  {
   "cell_type": "code",
   "execution_count": 302,
   "metadata": {},
   "outputs": [],
   "source": [
    "threshold = 0.5\n",
    "point = (max(point_x) + min(point_x))/2"
   ]
  },
  {
   "cell_type": "code",
   "execution_count": 303,
   "metadata": {},
   "outputs": [],
   "source": [
    "#np.where(np.logical_and(a>=6, a<=10))"
   ]
  },
  {
   "cell_type": "code",
   "execution_count": 345,
   "metadata": {},
   "outputs": [],
   "source": [
    "def length_width_calculator(foot_data):\n",
    "    \n",
    "    threshold = 0.5\n",
    "    \n",
    "    lengths = []\n",
    "    widths = []\n",
    "    \n",
    "    for foot in foot_data:\n",
    "        point_x = foot[:,0]\n",
    "        point_z = foot[:,2]\n",
    "\n",
    "        length = 0\n",
    "        for point in range(int(min(point_x)),int(max(point_x))):\n",
    "            indices_filtered = np.where((point_x>=point-threshold)&(point_x<=point+threshold))\n",
    "            point_z_filtered = point_z[indices_filtered]\n",
    "            \n",
    "            if(len(point_z_filtered)>0):\n",
    "                length_point = max(point_z_filtered) - min(point_z_filtered)\n",
    "            if length_point>length:\n",
    "                length = length_point\n",
    "                \n",
    "        lengths.append(length)\n",
    "                \n",
    "        width = 0\n",
    "        for point in range(int(min(point_z)),int(max(point_z))):\n",
    "            indices_filtered = np.where((point_z>=point-threshold)&(point_z<=point+threshold))\n",
    "            point_x_filtered = point_x[indices_filtered]\n",
    "            \n",
    "            if(len(point_x_filtered)>0):\n",
    "                width_point = max(point_x_filtered) - min(point_x_filtered)\n",
    "            if width_point>width:\n",
    "                width = width_point\n",
    "        \n",
    "        widths.append(width)\n",
    "    \n",
    "    return lengths,widths"
   ]
  },
  {
   "cell_type": "code",
   "execution_count": 346,
   "metadata": {},
   "outputs": [],
   "source": [
    "lengths,widths = length_width_calculator(aligned_points_all)"
   ]
  },
  {
   "cell_type": "code",
   "execution_count": 347,
   "metadata": {},
   "outputs": [
    {
     "data": {
      "text/plain": [
       "53"
      ]
     },
     "execution_count": 347,
     "metadata": {},
     "output_type": "execute_result"
    }
   ],
   "source": [
    "len(lengths)"
   ]
  },
  {
   "cell_type": "code",
   "execution_count": 348,
   "metadata": {},
   "outputs": [
    {
     "data": {
      "text/plain": [
       "53"
      ]
     },
     "execution_count": 348,
     "metadata": {},
     "output_type": "execute_result"
    }
   ],
   "source": [
    "len(widths)"
   ]
  },
  {
   "cell_type": "code",
   "execution_count": 349,
   "metadata": {},
   "outputs": [
    {
     "data": {
      "text/plain": [
       "[234.82001495000003,\n",
       " 234.83002471999998,\n",
       " 234.8299942,\n",
       " 234.82999420000004,\n",
       " 235.78000640999997,\n",
       " 246.82000733,\n",
       " 247.84996796,\n",
       " 246.75998688000004,\n",
       " 247.84000397,\n",
       " 240.33300018,\n",
       " 240.80001830999998,\n",
       " 240.79002379999997,\n",
       " 240.79000855,\n",
       " 240.85000609999997,\n",
       " 208.0840149,\n",
       " 230.83001709,\n",
       " 230.83001709,\n",
       " 231.92002105,\n",
       " 230.81000519,\n",
       " 221.81000519,\n",
       " 222.83002471999998,\n",
       " 223.85002135999997,\n",
       " 224.85001373,\n",
       " 224.85999298000002,\n",
       " 227.78002166000005,\n",
       " 213.80003357,\n",
       " 210.87998962000003,\n",
       " 213.86997985999997,\n",
       " 214.11199951000003,\n",
       " 214.36799622,\n",
       " 211.84001159,\n",
       " 213.92500305,\n",
       " 213.86999512000003,\n",
       " 236.86000061,\n",
       " 221.8099823,\n",
       " 221.86997986,\n",
       " 221.88002014,\n",
       " 221.73997497,\n",
       " 221.86000061,\n",
       " 204.85002137,\n",
       " 222.82000733,\n",
       " 222.82003784,\n",
       " 222.82000732999998,\n",
       " 223.78001404000003,\n",
       " 222.81997681000001,\n",
       " 255.13599396,\n",
       " 258.04650878999996,\n",
       " 243.84003449,\n",
       " 244.78999329000004,\n",
       " 247.84001159999997,\n",
       " 243.84002685999997,\n",
       " 243.84005738000002,\n",
       " 243.84005738000002]"
      ]
     },
     "execution_count": 349,
     "metadata": {},
     "output_type": "execute_result"
    }
   ],
   "source": [
    "lengths"
   ]
  },
  {
   "cell_type": "code",
   "execution_count": 350,
   "metadata": {},
   "outputs": [
    {
     "data": {
      "text/plain": [
       "[90.52994919,\n",
       " 90.32994842,\n",
       " 90.61959839,\n",
       " 90.62118530000001,\n",
       " 90.71862793,\n",
       " 98.67890548,\n",
       " 98.67495728,\n",
       " 95.39659882,\n",
       " 98.45571136000001,\n",
       " 88.8277855,\n",
       " 88.99101257000001,\n",
       " 89.01263809,\n",
       " 89.02532196,\n",
       " 88.92607498,\n",
       " 74.35295105,\n",
       " 82.67925262,\n",
       " 82.50316620000001,\n",
       " 82.57435989999999,\n",
       " 82.63835144000001,\n",
       " 85.17332459,\n",
       " 84.9986763,\n",
       " 84.94954681,\n",
       " 84.7238617,\n",
       " 84.66767121000001,\n",
       " 84.27325439,\n",
       " 83.48108292,\n",
       " 80.71326065,\n",
       " 83.51382065,\n",
       " 83.48229979999999,\n",
       " 83.63756561,\n",
       " 80.90822220000001,\n",
       " 83.63756562,\n",
       " 82.37795257,\n",
       " 95.80442048,\n",
       " 83.35985565,\n",
       " 83.54428863999999,\n",
       " 83.66284561,\n",
       " 83.67292785999999,\n",
       " 83.71245575,\n",
       " 77.42421341,\n",
       " 89.84028626,\n",
       " 89.84137726,\n",
       " 89.88199616,\n",
       " 89.78683853999999,\n",
       " 89.87786865,\n",
       " 93.60162735,\n",
       " 93.6120224,\n",
       " 92.45584107,\n",
       " 92.53103638,\n",
       " 93.93005371,\n",
       " 92.52954482999999,\n",
       " 92.60810852,\n",
       " 92.62805176]"
      ]
     },
     "execution_count": 350,
     "metadata": {},
     "output_type": "execute_result"
    }
   ],
   "source": [
    "widths"
   ]
  },
  {
   "cell_type": "code",
   "execution_count": 300,
   "metadata": {},
   "outputs": [
    {
     "data": {
      "text/plain": [
       "238.94398498000004"
      ]
     },
     "execution_count": 300,
     "metadata": {},
     "output_type": "execute_result"
    }
   ],
   "source": [
    "max(point_z)-min(point_z)"
   ]
  },
  {
   "cell_type": "code",
   "execution_count": null,
   "metadata": {},
   "outputs": [],
   "source": []
  }
 ],
 "metadata": {
  "kernelspec": {
   "display_name": "Python 3",
   "language": "python",
   "name": "python3"
  },
  "language_info": {
   "codemirror_mode": {
    "name": "ipython",
    "version": 3
   },
   "file_extension": ".py",
   "mimetype": "text/x-python",
   "name": "python",
   "nbconvert_exporter": "python",
   "pygments_lexer": "ipython3",
   "version": "3.7.0"
  }
 },
 "nbformat": 4,
 "nbformat_minor": 4
}
