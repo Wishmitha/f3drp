{
 "cells": [
  {
   "cell_type": "code",
   "execution_count": 1,
   "metadata": {},
   "outputs": [],
   "source": [
    "%matplotlib widget\n",
    "\n",
    "from mpl_toolkits.mplot3d import Axes3D\n",
    "import matplotlib.pyplot as plt\n",
    "import numpy as np\n",
    "import os\n",
    "from sklearn.cluster import KMeans\n",
    "from sklearn import preprocessing"
   ]
  },
  {
   "cell_type": "code",
   "execution_count": 2,
   "metadata": {},
   "outputs": [],
   "source": [
    "def process_data(file):\n",
    "    coord = []\n",
    "    for point in file.readlines():\n",
    "        coord.append(list(map(float,point.split())))\n",
    "        \n",
    "    return np.array(coord)"
   ]
  },
  {
   "cell_type": "code",
   "execution_count": 3,
   "metadata": {},
   "outputs": [],
   "source": [
    "def read_directory(directory, sample_rate):\n",
    "    point_array_all = []\n",
    "    land_mark_array_all=[]\n",
    "\n",
    "    for filename in sorted(os.listdir(directory)):\n",
    "\n",
    "        if filename.endswith(\".pts\"): \n",
    "            path=os.path.join(directory, filename)\n",
    "            #print(\"Processing:\",path)\n",
    "            points = open(path)\n",
    "            point_array = process_data(points)\n",
    "\n",
    "            point_array_sampled = []\n",
    "            \n",
    "            #sampling\n",
    "            for i in range(0,len(point_array),sample_rate):\n",
    "                point_array_sampled.append(point_array[i])\n",
    "\n",
    "            point_array_sampled = np.array(point_array_sampled)\n",
    "\n",
    "            point_array_all.append(point_array_sampled)\n",
    "\n",
    "            continue\n",
    "        elif filename.endswith(\".lan\"):\n",
    "            path = os.path.join(directory, filename)\n",
    "            #print(\"Processing:\",path)\n",
    "            landmarks = open(path)\n",
    "            landmark_array = process_data(landmarks)\n",
    "\n",
    "            land_mark_array_all.append(landmark_array)\n",
    "\n",
    "            continue\n",
    "            \n",
    "    return point_array_all,land_mark_array_all"
   ]
  },
  {
   "cell_type": "code",
   "execution_count": 4,
   "metadata": {},
   "outputs": [],
   "source": [
    "def calculate_transformation_matrix(original, aligned):\n",
    "    transform_matrices=[]\n",
    "    for i in range(0, len(original)):\n",
    "        transform_matrix = np.zeros(shape=(3,4))\n",
    "        \n",
    "        transform_matrix[0][-1] = aligned[i][0][0] - original[i][0][0]\n",
    "        transform_matrix[0][0] = 1\n",
    "        \n",
    "        transform_matrix[1][-1] = aligned[i][0][1] - original[i][0][1]\n",
    "        transform_matrix[1][1] = 1\n",
    "        \n",
    "        transform_matrix[2][-1] = aligned[i][0][2] - original[i][0][2]\n",
    "        transform_matrix[2][2] = 1\n",
    "        \n",
    "        transform_matrices.append(transform_matrix)\n",
    "    \n",
    "    return transform_matrices"
   ]
  },
  {
   "cell_type": "code",
   "execution_count": 5,
   "metadata": {},
   "outputs": [],
   "source": [
    "def calculate_aligned_landmarks(landmarks, transform_matrices):\n",
    "    updated_landmarks_all = []\n",
    "    \n",
    "    for i in range(0, len(landmarks)):\n",
    "        updated_landmarks=[]\n",
    "        \n",
    "        if(len(landmarks[i])!=0):\n",
    "            landmarks_1 = np.c_[landmarks[i],np.ones(len(landmarks[i]))]\n",
    "                \n",
    "            for j in range(0, len(landmarks[i])):\n",
    "                updated_landmark=[]\n",
    "                \n",
    "                for row in transform_matrices[i]:\n",
    "                    updated_landmark.append(np.dot(landmarks_1[j],row))\n",
    "           \n",
    "                \n",
    "                updated_landmarks.append(updated_landmark)\n",
    "            updated_landmarks_all.append(updated_landmarks)\n",
    "        \n",
    "    return np.array(updated_landmarks_all, dtype=object)"
   ]
  },
  {
   "cell_type": "code",
   "execution_count": 6,
   "metadata": {},
   "outputs": [],
   "source": [
    "def length_width_calculator(foot_data):\n",
    "    \n",
    "    threshold = 0.5\n",
    "    \n",
    "    lengths = []\n",
    "    widths = []\n",
    "    \n",
    "    for foot in foot_data:\n",
    "        point_x = foot[:,0]\n",
    "        point_z = foot[:,2]\n",
    "\n",
    "        length = 0\n",
    "        for point in range(int(min(point_x)),int(max(point_x))):\n",
    "            indices_filtered = np.where((point_x>=point-threshold)&(point_x<=point+threshold))\n",
    "            point_z_filtered = point_z[indices_filtered]\n",
    "            \n",
    "            if(len(point_z_filtered)>0):\n",
    "                length_point = max(point_z_filtered) - min(point_z_filtered)\n",
    "            if length_point>length:\n",
    "                length = length_point\n",
    "                \n",
    "        lengths.append(length)\n",
    "                \n",
    "        width = 0\n",
    "        for point in range(int(min(point_z)),int(max(point_z))):\n",
    "            indices_filtered = np.where((point_z>=point-threshold)&(point_z<=point+threshold))\n",
    "            point_x_filtered = point_x[indices_filtered]\n",
    "            \n",
    "            if(len(point_x_filtered)>0):\n",
    "                width_point = max(point_x_filtered) - min(point_x_filtered)\n",
    "            if width_point>width:\n",
    "                width = width_point\n",
    "        \n",
    "        widths.append(width)\n",
    "    \n",
    "    return lengths,widths"
   ]
  },
  {
   "cell_type": "code",
   "execution_count": 7,
   "metadata": {},
   "outputs": [],
   "source": [
    "def normalize(array):\n",
    "    amin, amax = min(array), max(array)\n",
    "    for i, val in enumerate(array):\n",
    "        array[i] = (val-amin) / (amax-amin)\n",
    "        \n",
    "    return array"
   ]
  },
  {
   "cell_type": "code",
   "execution_count": 8,
   "metadata": {},
   "outputs": [],
   "source": [
    "directory_aligned = \"Datasets/Original Foot Data/Bounding Box Aligned/\"\n",
    "directory_processed = \"Datasets/Original Foot Data/Processed/\""
   ]
  },
  {
   "cell_type": "code",
   "execution_count": 9,
   "metadata": {},
   "outputs": [],
   "source": [
    "sample_rate = 1 #read by skipping given number of lines"
   ]
  },
  {
   "cell_type": "code",
   "execution_count": 10,
   "metadata": {},
   "outputs": [],
   "source": [
    "aligned_points_all = read_directory(directory_aligned, sample_rate)[0]\n",
    "original_points_all, original_landmarks_all = read_directory(directory_processed, sample_rate)"
   ]
  },
  {
   "cell_type": "code",
   "execution_count": 11,
   "metadata": {},
   "outputs": [],
   "source": [
    "trans_mats = calculate_transformation_matrix(original_points_all, aligned_points_all)"
   ]
  },
  {
   "cell_type": "code",
   "execution_count": 12,
   "metadata": {},
   "outputs": [],
   "source": [
    "aligned_landmarks_all = calculate_aligned_landmarks(original_landmarks_all,trans_mats)"
   ]
  },
  {
   "cell_type": "code",
   "execution_count": 13,
   "metadata": {},
   "outputs": [],
   "source": [
    "point_x = aligned_points_all[0][:,0]\n",
    "point_z = aligned_points_all[0][:,2]"
   ]
  },
  {
   "cell_type": "code",
   "execution_count": 14,
   "metadata": {},
   "outputs": [],
   "source": [
    "threshold = 0.5\n",
    "point = (max(point_x) + min(point_x))/2"
   ]
  },
  {
   "cell_type": "code",
   "execution_count": 15,
   "metadata": {},
   "outputs": [],
   "source": [
    "#np.where(np.logical_and(a>=6, a<=10))"
   ]
  },
  {
   "cell_type": "code",
   "execution_count": 18,
   "metadata": {},
   "outputs": [
    {
     "data": {
      "text/plain": [
       "234.82001495000003"
      ]
     },
     "execution_count": 18,
     "metadata": {},
     "output_type": "execute_result"
    }
   ],
   "source": [
    "lengths,widths = length_width_calculator(aligned_points_all)\n",
    "lengths[0]"
   ]
  },
  {
   "cell_type": "code",
   "execution_count": 46,
   "metadata": {},
   "outputs": [
    {
     "data": {
      "application/vnd.jupyter.widget-view+json": {
       "model_id": "174815d7dabb4118800b4ee866394b46",
       "version_major": 2,
       "version_minor": 0
      },
      "text/plain": [
       "Canvas(toolbar=Toolbar(toolitems=[('Home', 'Reset original view', 'home', 'home'), ('Back', 'Back to previous …"
      ]
     },
     "metadata": {},
     "output_type": "display_data"
    },
    {
     "data": {
      "text/plain": [
       "<matplotlib.collections.PathCollection at 0x7f3f106f6cf8>"
      ]
     },
     "execution_count": 46,
     "metadata": {},
     "output_type": "execute_result"
    }
   ],
   "source": [
    "fig1 = plt.figure()\n",
    "ax = fig1.add_subplot()\n",
    "ax.scatter(range(len(lengths)),lengths)"
   ]
  },
  {
   "cell_type": "code",
   "execution_count": 47,
   "metadata": {},
   "outputs": [
    {
     "data": {
      "application/vnd.jupyter.widget-view+json": {
       "model_id": "05e869de588a4400bfe8cfcfc9b37a1e",
       "version_major": 2,
       "version_minor": 0
      },
      "text/plain": [
       "Canvas(toolbar=Toolbar(toolitems=[('Home', 'Reset original view', 'home', 'home'), ('Back', 'Back to previous …"
      ]
     },
     "metadata": {},
     "output_type": "display_data"
    },
    {
     "data": {
      "text/plain": [
       "<matplotlib.collections.PathCollection at 0x7f3f10418400>"
      ]
     },
     "execution_count": 47,
     "metadata": {},
     "output_type": "execute_result"
    }
   ],
   "source": [
    "fig2 = plt.figure()\n",
    "ax = fig2.add_subplot()\n",
    "ax.scatter(range(len(lengths)),widths)"
   ]
  },
  {
   "cell_type": "code",
   "execution_count": 48,
   "metadata": {},
   "outputs": [
    {
     "data": {
      "application/vnd.jupyter.widget-view+json": {
       "model_id": "dfb74f3441f749768666472d32be301a",
       "version_major": 2,
       "version_minor": 0
      },
      "text/plain": [
       "Canvas(toolbar=Toolbar(toolitems=[('Home', 'Reset original view', 'home', 'home'), ('Back', 'Back to previous …"
      ]
     },
     "metadata": {},
     "output_type": "display_data"
    },
    {
     "data": {
      "text/plain": [
       "<mpl_toolkits.mplot3d.art3d.Path3DCollection at 0x7f3f0e643c88>"
      ]
     },
     "execution_count": 48,
     "metadata": {},
     "output_type": "execute_result"
    }
   ],
   "source": [
    "fig3 = plt.figure()\n",
    "ax = fig3.add_subplot(111, projection='3d')\n",
    "ax.scatter(range(len(lengths)),lengths,widths)"
   ]
  },
  {
   "cell_type": "code",
   "execution_count": 49,
   "metadata": {},
   "outputs": [],
   "source": [
    "#kmeans = KMeans(n_clusters=10, random_state=0).fit()"
   ]
  },
  {
   "cell_type": "code",
   "execution_count": 50,
   "metadata": {},
   "outputs": [],
   "source": [
    "lengths_normalized = normalize(lengths)"
   ]
  },
  {
   "cell_type": "code",
   "execution_count": 51,
   "metadata": {},
   "outputs": [
    {
     "data": {
      "application/vnd.jupyter.widget-view+json": {
       "model_id": "070680f9e26d46d79b5b71ffb48c285a",
       "version_major": 2,
       "version_minor": 0
      },
      "text/plain": [
       "Canvas(toolbar=Toolbar(toolitems=[('Home', 'Reset original view', 'home', 'home'), ('Back', 'Back to previous …"
      ]
     },
     "metadata": {},
     "output_type": "display_data"
    },
    {
     "data": {
      "text/plain": [
       "<matplotlib.collections.PathCollection at 0x7f3f0e643c18>"
      ]
     },
     "execution_count": 51,
     "metadata": {},
     "output_type": "execute_result"
    }
   ],
   "source": [
    "fig4 = plt.figure()\n",
    "ax = fig4.add_subplot()\n",
    "ax.scatter(range(len(lengths_normalized)),lengths_normalized)"
   ]
  },
  {
   "cell_type": "code",
   "execution_count": 52,
   "metadata": {},
   "outputs": [],
   "source": [
    "widths_normalized = normalize(widths)"
   ]
  },
  {
   "cell_type": "code",
   "execution_count": 53,
   "metadata": {},
   "outputs": [
    {
     "data": {
      "application/vnd.jupyter.widget-view+json": {
       "model_id": "d93b4fe4ebed435a9c552cf80081ed6a",
       "version_major": 2,
       "version_minor": 0
      },
      "text/plain": [
       "Canvas(toolbar=Toolbar(toolitems=[('Home', 'Reset original view', 'home', 'home'), ('Back', 'Back to previous …"
      ]
     },
     "metadata": {},
     "output_type": "display_data"
    },
    {
     "data": {
      "text/plain": [
       "<matplotlib.collections.PathCollection at 0x7f3f0e93d4e0>"
      ]
     },
     "execution_count": 53,
     "metadata": {},
     "output_type": "execute_result"
    }
   ],
   "source": [
    "fig5 = plt.figure()\n",
    "ax = fig5.add_subplot()\n",
    "ax.scatter(range(len(widths_normalized)),widths_normalized)"
   ]
  },
  {
   "cell_type": "code",
   "execution_count": 54,
   "metadata": {},
   "outputs": [
    {
     "data": {
      "application/vnd.jupyter.widget-view+json": {
       "model_id": "01505c06c2dd42e2a55454d6750a4808",
       "version_major": 2,
       "version_minor": 0
      },
      "text/plain": [
       "Canvas(toolbar=Toolbar(toolitems=[('Home', 'Reset original view', 'home', 'home'), ('Back', 'Back to previous …"
      ]
     },
     "metadata": {},
     "output_type": "display_data"
    },
    {
     "data": {
      "text/plain": [
       "<mpl_toolkits.mplot3d.art3d.Path3DCollection at 0x7f3f10934eb8>"
      ]
     },
     "execution_count": 54,
     "metadata": {},
     "output_type": "execute_result"
    }
   ],
   "source": [
    "fig6 = plt.figure()\n",
    "ax = fig6.add_subplot(111, projection='3d')\n",
    "ax.scatter(range(len(lengths_normalized)),lengths_normalized,widths_normalized)"
   ]
  },
  {
   "cell_type": "code",
   "execution_count": 56,
   "metadata": {},
   "outputs": [
    {
     "data": {
      "text/plain": [
       "[0.5633829418731957,\n",
       " 0.5635711078684601,\n",
       " 0.5635705341463692,\n",
       " 0.5635705341463702,\n",
       " 0.5814290856424368,\n",
       " 0.788961602457624,\n",
       " 0.8083230430329795,\n",
       " 0.7878333240146116,\n",
       " 0.8081357376208511,\n",
       " 0.6670173263481242,\n",
       " 0.6757964422756996,\n",
       " 0.6756085631414795,\n",
       " 0.6756082764684171,\n",
       " 0.6767361244318788,\n",
       " 0.0607933660067963,\n",
       " 0.4883780298289482,\n",
       " 0.4883780298289482,\n",
       " 0.508868178950903,\n",
       " 0.4880018414569225,\n",
       " 0.3188177385866957,\n",
       " 0.337992304041491,\n",
       " 0.3571664392047181,\n",
       " 0.3759645294264433,\n",
       " 0.37615212169961776,\n",
       " 0.43104350309752193,\n",
       " 0.16824442052606509,\n",
       " 0.11335275207913398,\n",
       " 0.16955928722859223,\n",
       " 0.1741088291577285,\n",
       " 0.17892111512651468,\n",
       " 0.13139946938248404,\n",
       " 0.17059362601050448,\n",
       " 0.1695595740896388,\n",
       " 0.601731068957109,\n",
       " 0.31881730829512744,\n",
       " 0.3199451564465722,\n",
       " 0.3201338959759461,\n",
       " 0.31750129414841727,\n",
       " 0.3197575641733977,\n",
       " 0.0,\n",
       " 0.33780399480368584,\n",
       " 0.3378045683377943,\n",
       " 0.3378039948036853,\n",
       " 0.3558504252459915,\n",
       " 0.33780342108159483,\n",
       " 0.9452874621773296,\n",
       " 1.0,\n",
       " 0.7329433767339524,\n",
       " 0.7508009242163619,\n",
       " 0.8081358810513734,\n",
       " 0.7329432333034291,\n",
       " 0.7329438070255212,\n",
       " 0.7329438070255212]"
      ]
     },
     "execution_count": 56,
     "metadata": {},
     "output_type": "execute_result"
    }
   ],
   "source": [
    "lengths"
   ]
  },
  {
   "cell_type": "code",
   "execution_count": null,
   "metadata": {},
   "outputs": [],
   "source": []
  }
 ],
 "metadata": {
  "kernelspec": {
   "display_name": "Python 3",
   "language": "python",
   "name": "python3"
  },
  "language_info": {
   "codemirror_mode": {
    "name": "ipython",
    "version": 3
   },
   "file_extension": ".py",
   "mimetype": "text/x-python",
   "name": "python",
   "nbconvert_exporter": "python",
   "pygments_lexer": "ipython3",
   "version": "3.7.0"
  }
 },
 "nbformat": 4,
 "nbformat_minor": 4
}
